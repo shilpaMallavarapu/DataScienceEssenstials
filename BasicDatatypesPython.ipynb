{
 "cells": [
  {
   "cell_type": "markdown",
   "id": "30e9bdde",
   "metadata": {},
   "source": [
    "# Basics Of Python"
   ]
  },
  {
   "cell_type": "raw",
   "id": "218e8e80",
   "metadata": {},
   "source": [
    "---> print fuction\n",
    "- Simple Hello world\n",
    "- Using comma seperated\n",
    "- Using next line\n",
    "- Adding blank line\n",
    "\n",
    "\n",
    "---> Comments\n",
    "\n",
    "\n",
    "---> Variables : ( Variable is a container which hold your data )\n",
    "Five Rules of variables:\n",
    "1. It is case sensitive\n",
    "2. Overwrites\n",
    "3. Should start with letter or underscore character\n",
    "4. Should not start with number\n",
    "5. Can't use resersed keywords of python\n",
    "\n",
    "\n",
    "---> Data types: Integer, float, string, list, tuple, dictionary, Boolean\n",
    "-> Assigning some data types to variables and check using type fuction\n",
    "\n",
    "\n",
    "-> Strings : ( Represents by \" \" or ' ' )\n",
    "- Indexing and slicing string ( positive and negative )\n",
    "- String concatination using \"+\" and format fuction\n",
    "- strip, len, upper, lower, title, startswith, endswith, replace, split fuctions, check condition using index\n",
    "\n",
    "\n",
    "-> List: ( Represents by Square brackets [ ] )\n",
    "Ordered, Changebleinvali\n",
    "- Indexing and slicing list  ( positive and negative )\n",
    "- Changing items in list using indexing\n",
    "- len, append , extend , insert , remove, reverse, pop , sort , clear , copy , count , index\n",
    "- addition of list , list(range( , ))\n",
    "\n",
    "\n",
    "-> Tuples: ( Represents by round brackets () )\n",
    "Ordered, Unchangable\n",
    "- Indexing and slicing tuple ( positive and negative )\n",
    "- Changing items in list using indexing ( gives error since not changable )\n",
    "- len , count , index\n",
    "- addition of tuple , tuple(range( , ))\n",
    "\n",
    "\n",
    "-> Dictionaries: ( Represents by curly brackets with key and value pair {\"key\" : value, ... } )\n",
    "Unordered, Changeble\n",
    "- Get the value i.e using key, \n",
    "- Change the value i.e using existing key, \n",
    "- Number of items i.e using len, \n",
    "- Adding items i.e using new key and value, \n",
    "- Removing items i.e using pop with key, \n",
    "- Remove the last item i.e popitem,\n",
    "- Empty the dict i.e using clear\n",
    "\n",
    "\n",
    "-> Boolean\n",
    "\n",
    "---> Type casting : int, float, str, list, tuple, dict\n",
    "\n",
    "---> input fuction using string vs int\n",
    "\n",
    "\n",
    "---> if, elif, else Statements\n",
    "\n",
    "\n",
    "---> Functions \n",
    "- with and without return \n",
    "- global and local variable"
   ]
  },
  {
   "cell_type": "code",
   "execution_count": null,
   "id": "6d2982b7",
   "metadata": {},
   "outputs": [],
   "source": []
  },
  {
   "cell_type": "code",
   "execution_count": null,
   "id": "83a17d44",
   "metadata": {},
   "outputs": [],
   "source": []
  },
  {
   "cell_type": "raw",
   "id": "c604623c",
   "metadata": {},
   "source": [
    "---> print fuction\n",
    "- Simple Hello world\n",
    "- Using comma seperated\n",
    "- Using next line\n",
    "- Adding blank line"
   ]
  },
  {
   "cell_type": "code",
   "execution_count": 2,
   "id": "c73bced5",
   "metadata": {},
   "outputs": [
    {
     "name": "stdout",
     "output_type": "stream",
     "text": [
      "Hello World\n"
     ]
    }
   ],
   "source": [
    "print(\"Hello World\")"
   ]
  },
  {
   "cell_type": "code",
   "execution_count": 5,
   "id": "b214e384",
   "metadata": {},
   "outputs": [
    {
     "name": "stdout",
     "output_type": "stream",
     "text": [
      "Hello World\n"
     ]
    }
   ],
   "source": [
    "print(\"Hello\", \"World\")"
   ]
  },
  {
   "cell_type": "code",
   "execution_count": 6,
   "id": "9dceca87",
   "metadata": {},
   "outputs": [
    {
     "name": "stdout",
     "output_type": "stream",
     "text": [
      "Hello\n",
      "World\n"
     ]
    }
   ],
   "source": [
    "print(\"Hello\\nWorld\")"
   ]
  },
  {
   "cell_type": "code",
   "execution_count": 7,
   "id": "aa32c266",
   "metadata": {},
   "outputs": [
    {
     "name": "stdout",
     "output_type": "stream",
     "text": [
      "Hello\n",
      "\n",
      "\n",
      "\n",
      "World\n"
     ]
    }
   ],
   "source": [
    "print(\"Hello\")\n",
    "print()\n",
    "print()\n",
    "print()\n",
    "print(\"World\")"
   ]
  },
  {
   "cell_type": "raw",
   "id": "3d654aba",
   "metadata": {},
   "source": [
    "---> Comments"
   ]
  },
  {
   "cell_type": "code",
   "execution_count": 9,
   "id": "54bb3067",
   "metadata": {},
   "outputs": [],
   "source": [
    "# This is a comment"
   ]
  },
  {
   "cell_type": "raw",
   "id": "a5da1bd9",
   "metadata": {},
   "source": [
    "---> Variables : ( Variable is a container which hold your data )\n",
    "Five Rules of variables:\n",
    "1. It is case sensitive\n",
    "2. Overwrites\n",
    "3. Should start with letter or underscore character\n",
    "4. Should not start with number\n",
    "5. Can't use resersed keywords of python"
   ]
  },
  {
   "cell_type": "code",
   "execution_count": 10,
   "id": "61d1c4ec",
   "metadata": {},
   "outputs": [],
   "source": [
    "a = 1"
   ]
  },
  {
   "cell_type": "code",
   "execution_count": 11,
   "id": "3d8c2924",
   "metadata": {},
   "outputs": [
    {
     "data": {
      "text/plain": [
       "1"
      ]
     },
     "execution_count": 11,
     "metadata": {},
     "output_type": "execute_result"
    }
   ],
   "source": [
    "a"
   ]
  },
  {
   "cell_type": "code",
   "execution_count": 12,
   "id": "1f38c503",
   "metadata": {},
   "outputs": [],
   "source": [
    "A = 2"
   ]
  },
  {
   "cell_type": "code",
   "execution_count": 13,
   "id": "55781274",
   "metadata": {},
   "outputs": [
    {
     "data": {
      "text/plain": [
       "1"
      ]
     },
     "execution_count": 13,
     "metadata": {},
     "output_type": "execute_result"
    }
   ],
   "source": [
    "a"
   ]
  },
  {
   "cell_type": "code",
   "execution_count": 14,
   "id": "9ae1064f",
   "metadata": {},
   "outputs": [
    {
     "data": {
      "text/plain": [
       "2"
      ]
     },
     "execution_count": 14,
     "metadata": {},
     "output_type": "execute_result"
    }
   ],
   "source": [
    "A"
   ]
  },
  {
   "cell_type": "code",
   "execution_count": 15,
   "id": "67400e18",
   "metadata": {},
   "outputs": [
    {
     "data": {
      "text/plain": [
       "1"
      ]
     },
     "execution_count": 15,
     "metadata": {},
     "output_type": "execute_result"
    }
   ],
   "source": [
    "a"
   ]
  },
  {
   "cell_type": "code",
   "execution_count": 16,
   "id": "bfea0b94",
   "metadata": {},
   "outputs": [],
   "source": [
    "a = 1"
   ]
  },
  {
   "cell_type": "code",
   "execution_count": 17,
   "id": "d5c7496a",
   "metadata": {},
   "outputs": [],
   "source": [
    "a = 10"
   ]
  },
  {
   "cell_type": "code",
   "execution_count": 18,
   "id": "d69b88dd",
   "metadata": {},
   "outputs": [
    {
     "data": {
      "text/plain": [
       "10"
      ]
     },
     "execution_count": 18,
     "metadata": {},
     "output_type": "execute_result"
    }
   ],
   "source": [
    "a"
   ]
  },
  {
   "cell_type": "code",
   "execution_count": 19,
   "id": "cb47d317",
   "metadata": {},
   "outputs": [],
   "source": [
    "a = 10"
   ]
  },
  {
   "cell_type": "code",
   "execution_count": 5,
   "id": "2b62c3ea",
   "metadata": {},
   "outputs": [],
   "source": [
    "_a = 10"
   ]
  },
  {
   "cell_type": "code",
   "execution_count": 6,
   "id": "db26c8e2",
   "metadata": {},
   "outputs": [
    {
     "data": {
      "text/plain": [
       "10"
      ]
     },
     "execution_count": 6,
     "metadata": {},
     "output_type": "execute_result"
    }
   ],
   "source": [
    "_a\n"
   ]
  },
  {
   "cell_type": "code",
   "execution_count": null,
   "id": "c439fda6",
   "metadata": {},
   "outputs": [],
   "source": []
  },
  {
   "cell_type": "code",
   "execution_count": 7,
   "id": "e65acd87",
   "metadata": {},
   "outputs": [],
   "source": [
    "_A = 10"
   ]
  },
  {
   "cell_type": "code",
   "execution_count": 22,
   "id": "68b02908",
   "metadata": {},
   "outputs": [
    {
     "ename": "SyntaxError",
     "evalue": "invalid syntax (Temp/ipykernel_20980/2021858625.py, line 1)",
     "output_type": "error",
     "traceback": [
      "\u001b[1;36m  File \u001b[1;32m\"C:\\Users\\idris\\AppData\\Local\\Temp/ipykernel_20980/2021858625.py\"\u001b[1;36m, line \u001b[1;32m1\u001b[0m\n\u001b[1;33m    2A= 10\u001b[0m\n\u001b[1;37m     ^\u001b[0m\n\u001b[1;31mSyntaxError\u001b[0m\u001b[1;31m:\u001b[0m invalid syntax\n"
     ]
    }
   ],
   "source": [
    "2A= 10"
   ]
  },
  {
   "cell_type": "code",
   "execution_count": 8,
   "id": "7110ec26",
   "metadata": {},
   "outputs": [
    {
     "data": {
      "text/plain": [
       "10"
      ]
     },
     "execution_count": 8,
     "metadata": {},
     "output_type": "execute_result"
    }
   ],
   "source": [
    "_A"
   ]
  },
  {
   "cell_type": "code",
   "execution_count": 23,
   "id": "af2ba18c",
   "metadata": {},
   "outputs": [
    {
     "ename": "SyntaxError",
     "evalue": "invalid syntax (Temp/ipykernel_20980/657267716.py, line 1)",
     "output_type": "error",
     "traceback": [
      "\u001b[1;36m  File \u001b[1;32m\"C:\\Users\\idris\\AppData\\Local\\Temp/ipykernel_20980/657267716.py\"\u001b[1;36m, line \u001b[1;32m1\u001b[0m\n\u001b[1;33m    $a = 10\u001b[0m\n\u001b[1;37m    ^\u001b[0m\n\u001b[1;31mSyntaxError\u001b[0m\u001b[1;31m:\u001b[0m invalid syntax\n"
     ]
    }
   ],
   "source": [
    "$a = 10"
   ]
  },
  {
   "cell_type": "code",
   "execution_count": 24,
   "id": "8470cc4c",
   "metadata": {},
   "outputs": [
    {
     "ename": "SyntaxError",
     "evalue": "invalid syntax (Temp/ipykernel_20980/3674467284.py, line 1)",
     "output_type": "error",
     "traceback": [
      "\u001b[1;36m  File \u001b[1;32m\"C:\\Users\\idris\\AppData\\Local\\Temp/ipykernel_20980/3674467284.py\"\u001b[1;36m, line \u001b[1;32m1\u001b[0m\n\u001b[1;33m    2a = 10\u001b[0m\n\u001b[1;37m     ^\u001b[0m\n\u001b[1;31mSyntaxError\u001b[0m\u001b[1;31m:\u001b[0m invalid syntax\n"
     ]
    }
   ],
   "source": [
    "2a = 10"
   ]
  },
  {
   "cell_type": "code",
   "execution_count": 25,
   "id": "5ca573c2",
   "metadata": {},
   "outputs": [],
   "source": [
    "a2 = 10"
   ]
  },
  {
   "cell_type": "code",
   "execution_count": 26,
   "id": "72de153e",
   "metadata": {},
   "outputs": [
    {
     "data": {
      "text/plain": [
       "10"
      ]
     },
     "execution_count": 26,
     "metadata": {},
     "output_type": "execute_result"
    }
   ],
   "source": [
    "a2"
   ]
  },
  {
   "cell_type": "code",
   "execution_count": 27,
   "id": "c87b570d",
   "metadata": {},
   "outputs": [],
   "source": [
    "a2a = 10"
   ]
  },
  {
   "cell_type": "code",
   "execution_count": 28,
   "id": "a1e7c965",
   "metadata": {},
   "outputs": [
    {
     "data": {
      "text/plain": [
       "10"
      ]
     },
     "execution_count": 28,
     "metadata": {},
     "output_type": "execute_result"
    }
   ],
   "source": [
    "a2a"
   ]
  },
  {
   "cell_type": "raw",
   "id": "38b0111f",
   "metadata": {},
   "source": [
    "---> Data types: Integer, float, string, list, tuple, dictionary, Boolean\n",
    "-> Assigning some data types to variables and check using type fuction"
   ]
  },
  {
   "cell_type": "code",
   "execution_count": 29,
   "id": "a0a7602e",
   "metadata": {},
   "outputs": [],
   "source": [
    "integer1 = 1\n",
    "integer2 = 23\n",
    "integer3 = 0\n",
    "integer4 = -9"
   ]
  },
  {
   "cell_type": "code",
   "execution_count": 30,
   "id": "77357754",
   "metadata": {},
   "outputs": [
    {
     "data": {
      "text/plain": [
       "int"
      ]
     },
     "execution_count": 30,
     "metadata": {},
     "output_type": "execute_result"
    }
   ],
   "source": [
    "type(integer1)"
   ]
  },
  {
   "cell_type": "code",
   "execution_count": 31,
   "id": "c2fc310b",
   "metadata": {},
   "outputs": [
    {
     "data": {
      "text/plain": [
       "int"
      ]
     },
     "execution_count": 31,
     "metadata": {},
     "output_type": "execute_result"
    }
   ],
   "source": [
    "type(integer3)"
   ]
  },
  {
   "cell_type": "code",
   "execution_count": 32,
   "id": "a44a51cf",
   "metadata": {},
   "outputs": [
    {
     "data": {
      "text/plain": [
       "int"
      ]
     },
     "execution_count": 32,
     "metadata": {},
     "output_type": "execute_result"
    }
   ],
   "source": [
    "type(integer4)"
   ]
  },
  {
   "cell_type": "code",
   "execution_count": 33,
   "id": "6e2074ca",
   "metadata": {},
   "outputs": [],
   "source": [
    "float1 =  0.4\n",
    "float2 = -0.2\n",
    "float3 = -9.3"
   ]
  },
  {
   "cell_type": "code",
   "execution_count": 34,
   "id": "0a21ebad",
   "metadata": {},
   "outputs": [
    {
     "data": {
      "text/plain": [
       "float"
      ]
     },
     "execution_count": 34,
     "metadata": {},
     "output_type": "execute_result"
    }
   ],
   "source": [
    "type(float1)"
   ]
  },
  {
   "cell_type": "raw",
   "id": "d691b3c9",
   "metadata": {},
   "source": [
    "-> Strings : ( Represents by \" \" or ' ' )\n",
    "- Indexing and slicing string ( positive and negative )\n",
    "- String concatination using \"+\" and format fuction\n",
    "- strip, len, upper(case), lower, title, startswith, endswith, replace, split fuctions, check condition using index"
   ]
  },
  {
   "cell_type": "code",
   "execution_count": 26,
   "id": "1f63786e",
   "metadata": {},
   "outputs": [],
   "source": [
    "my_name_in_double_quotes = \"My name is Data\"   # double quotes"
   ]
  },
  {
   "cell_type": "code",
   "execution_count": 27,
   "id": "853282db",
   "metadata": {},
   "outputs": [],
   "source": [
    "my_name_in_single_quotes = 'My name is Data'   # single quotes"
   ]
  },
  {
   "cell_type": "code",
   "execution_count": 28,
   "id": "965e8cab",
   "metadata": {},
   "outputs": [
    {
     "data": {
      "text/plain": [
       "str"
      ]
     },
     "execution_count": 28,
     "metadata": {},
     "output_type": "execute_result"
    }
   ],
   "source": [
    "type(my_name_in_double_quotes)"
   ]
  },
  {
   "cell_type": "code",
   "execution_count": 29,
   "id": "5c18154e",
   "metadata": {},
   "outputs": [
    {
     "data": {
      "text/plain": [
       "str"
      ]
     },
     "execution_count": 29,
     "metadata": {},
     "output_type": "execute_result"
    }
   ],
   "source": [
    "type(my_name_in_single_quotes)"
   ]
  },
  {
   "cell_type": "code",
   "execution_count": 44,
   "id": "37f1f05b",
   "metadata": {},
   "outputs": [
    {
     "ename": "SyntaxError",
     "evalue": "invalid syntax (Temp/ipykernel_20980/2638416466.py, line 1)",
     "output_type": "error",
     "traceback": [
      "\u001b[1;36m  File \u001b[1;32m\"C:\\Users\\idris\\AppData\\Local\\Temp/ipykernel_20980/2638416466.py\"\u001b[1;36m, line \u001b[1;32m1\u001b[0m\n\u001b[1;33m    'It's my name'\u001b[0m\n\u001b[1;37m        ^\u001b[0m\n\u001b[1;31mSyntaxError\u001b[0m\u001b[1;31m:\u001b[0m invalid syntax\n"
     ]
    }
   ],
   "source": [
    "'It's my name'"
   ]
  },
  {
   "cell_type": "code",
   "execution_count": 45,
   "id": "deff2ef1",
   "metadata": {},
   "outputs": [
    {
     "data": {
      "text/plain": [
       "\"It's my name\""
      ]
     },
     "execution_count": 45,
     "metadata": {},
     "output_type": "execute_result"
    }
   ],
   "source": [
    "\"It's my name\""
   ]
  },
  {
   "cell_type": "code",
   "execution_count": 12,
   "id": "da07e20d",
   "metadata": {},
   "outputs": [
    {
     "data": {
      "text/plain": [
       "'He said : \"I will come tomorrow\".....'"
      ]
     },
     "execution_count": 12,
     "metadata": {},
     "output_type": "execute_result"
    }
   ],
   "source": [
    "'He said : \"I will come tomorrow\".....'"
   ]
  },
  {
   "cell_type": "code",
   "execution_count": 48,
   "id": "dabd30a3",
   "metadata": {},
   "outputs": [
    {
     "data": {
      "text/plain": [
       "'He said : \"I will come tomorrow\".....'"
      ]
     },
     "execution_count": 48,
     "metadata": {},
     "output_type": "execute_result"
    }
   ],
   "source": [
    "'He said : \"I will come tomorrow\".....'"
   ]
  },
  {
   "cell_type": "raw",
   "id": "37d8d329",
   "metadata": {},
   "source": [
    "- Indexing and slicing string ( positive and negative )"
   ]
  },
  {
   "cell_type": "code",
   "execution_count": 30,
   "id": "be15dd2e",
   "metadata": {},
   "outputs": [],
   "source": [
    "a = \"My name is Data\""
   ]
  },
  {
   "cell_type": "code",
   "execution_count": 31,
   "id": "da7842d8",
   "metadata": {},
   "outputs": [
    {
     "data": {
      "text/plain": [
       "'My name is Data'"
      ]
     },
     "execution_count": 31,
     "metadata": {},
     "output_type": "execute_result"
    }
   ],
   "source": [
    "a"
   ]
  },
  {
   "cell_type": "code",
   "execution_count": 51,
   "id": "1db87db2",
   "metadata": {},
   "outputs": [
    {
     "data": {
      "text/plain": [
       "'y'"
      ]
     },
     "execution_count": 51,
     "metadata": {},
     "output_type": "execute_result"
    }
   ],
   "source": [
    "a[1]"
   ]
  },
  {
   "cell_type": "code",
   "execution_count": 52,
   "id": "fefa5f16",
   "metadata": {},
   "outputs": [
    {
     "data": {
      "text/plain": [
       "'k'"
      ]
     },
     "execution_count": 52,
     "metadata": {},
     "output_type": "execute_result"
    }
   ],
   "source": [
    "a[11]"
   ]
  },
  {
   "cell_type": "code",
   "execution_count": 53,
   "id": "72383ec0",
   "metadata": {},
   "outputs": [
    {
     "data": {
      "text/plain": [
       "'M'"
      ]
     },
     "execution_count": 53,
     "metadata": {},
     "output_type": "execute_result"
    }
   ],
   "source": [
    "a[0]"
   ]
  },
  {
   "cell_type": "code",
   "execution_count": 54,
   "id": "ae9b067c",
   "metadata": {},
   "outputs": [
    {
     "data": {
      "text/plain": [
       "'m'"
      ]
     },
     "execution_count": 54,
     "metadata": {},
     "output_type": "execute_result"
    }
   ],
   "source": [
    "a[-1]"
   ]
  },
  {
   "cell_type": "code",
   "execution_count": 55,
   "id": "8944d113",
   "metadata": {},
   "outputs": [
    {
     "data": {
      "text/plain": [
       "'i'"
      ]
     },
     "execution_count": 55,
     "metadata": {},
     "output_type": "execute_result"
    }
   ],
   "source": [
    "a[-2]"
   ]
  },
  {
   "cell_type": "code",
   "execution_count": 57,
   "id": "493745b2",
   "metadata": {},
   "outputs": [
    {
     "data": {
      "text/plain": [
       "'s'"
      ]
     },
     "execution_count": 57,
     "metadata": {},
     "output_type": "execute_result"
    }
   ],
   "source": [
    "a[-7]"
   ]
  },
  {
   "cell_type": "code",
   "execution_count": 32,
   "id": "c3a28b60",
   "metadata": {},
   "outputs": [
    {
     "data": {
      "text/plain": [
       "'My name is Data'"
      ]
     },
     "execution_count": 32,
     "metadata": {},
     "output_type": "execute_result"
    }
   ],
   "source": [
    "a"
   ]
  },
  {
   "cell_type": "code",
   "execution_count": 60,
   "id": "f006951d",
   "metadata": {},
   "outputs": [
    {
     "data": {
      "text/plain": [
       "'My nam'"
      ]
     },
     "execution_count": 60,
     "metadata": {},
     "output_type": "execute_result"
    }
   ],
   "source": [
    "a[0 : 6]"
   ]
  },
  {
   "cell_type": "code",
   "execution_count": 61,
   "id": "514e51e5",
   "metadata": {},
   "outputs": [
    {
     "data": {
      "text/plain": [
       "'My name'"
      ]
     },
     "execution_count": 61,
     "metadata": {},
     "output_type": "execute_result"
    }
   ],
   "source": [
    "a[0 : 7]"
   ]
  },
  {
   "cell_type": "code",
   "execution_count": 62,
   "id": "15d24a12",
   "metadata": {},
   "outputs": [
    {
     "data": {
      "text/plain": [
       "'is kasim'"
      ]
     },
     "execution_count": 62,
     "metadata": {},
     "output_type": "execute_result"
    }
   ],
   "source": [
    "a[8 : ]"
   ]
  },
  {
   "cell_type": "code",
   "execution_count": 63,
   "id": "e6e6ac15",
   "metadata": {},
   "outputs": [
    {
     "data": {
      "text/plain": [
       "'My name'"
      ]
     },
     "execution_count": 63,
     "metadata": {},
     "output_type": "execute_result"
    }
   ],
   "source": [
    "a[ : 7]"
   ]
  },
  {
   "cell_type": "code",
   "execution_count": 33,
   "id": "55c2081c",
   "metadata": {},
   "outputs": [
    {
     "data": {
      "text/plain": [
       "'Data'"
      ]
     },
     "execution_count": 33,
     "metadata": {},
     "output_type": "execute_result"
    }
   ],
   "source": [
    "a[11 : ]"
   ]
  },
  {
   "cell_type": "code",
   "execution_count": 34,
   "id": "fbfe2b65",
   "metadata": {},
   "outputs": [
    {
     "data": {
      "text/plain": [
       "' Data'"
      ]
     },
     "execution_count": 34,
     "metadata": {},
     "output_type": "execute_result"
    }
   ],
   "source": [
    "a[-5 : ]"
   ]
  },
  {
   "cell_type": "code",
   "execution_count": 66,
   "id": "9a74c31c",
   "metadata": {},
   "outputs": [
    {
     "data": {
      "text/plain": [
       "'m'"
      ]
     },
     "execution_count": 66,
     "metadata": {},
     "output_type": "execute_result"
    }
   ],
   "source": [
    "a[-1]"
   ]
  },
  {
   "cell_type": "raw",
   "id": "5dccd79e",
   "metadata": {},
   "source": [
    "- String concatination using \"+\" and format fuction"
   ]
  },
  {
   "cell_type": "code",
   "execution_count": 68,
   "id": "38cad9e5",
   "metadata": {},
   "outputs": [
    {
     "data": {
      "text/plain": [
       "2"
      ]
     },
     "execution_count": 68,
     "metadata": {},
     "output_type": "execute_result"
    }
   ],
   "source": [
    "1 + 1"
   ]
  },
  {
   "cell_type": "code",
   "execution_count": 69,
   "id": "d69d00b4",
   "metadata": {},
   "outputs": [
    {
     "data": {
      "text/plain": [
       "'11'"
      ]
     },
     "execution_count": 69,
     "metadata": {},
     "output_type": "execute_result"
    }
   ],
   "source": [
    "\"1\" + \"1\""
   ]
  },
  {
   "cell_type": "code",
   "execution_count": 75,
   "id": "5e5f2156",
   "metadata": {},
   "outputs": [
    {
     "ename": "TypeError",
     "evalue": "can only concatenate str (not \"int\") to str",
     "output_type": "error",
     "traceback": [
      "\u001b[1;31m---------------------------------------------------------------------------\u001b[0m",
      "\u001b[1;31mTypeError\u001b[0m                                 Traceback (most recent call last)",
      "\u001b[1;32m~\\AppData\\Local\\Temp/ipykernel_20980/991885494.py\u001b[0m in \u001b[0;36m<module>\u001b[1;34m\u001b[0m\n\u001b[1;32m----> 1\u001b[1;33m \u001b[1;34m\"1\"\u001b[0m \u001b[1;33m+\u001b[0m \u001b[1;36m1\u001b[0m\u001b[1;33m\u001b[0m\u001b[1;33m\u001b[0m\u001b[0m\n\u001b[0m",
      "\u001b[1;31mTypeError\u001b[0m: can only concatenate str (not \"int\") to str"
     ]
    }
   ],
   "source": [
    "\"1\" + 1"
   ]
  },
  {
   "cell_type": "code",
   "execution_count": 76,
   "id": "6e820f5c",
   "metadata": {},
   "outputs": [
    {
     "data": {
      "text/plain": [
       "4.4"
      ]
     },
     "execution_count": 76,
     "metadata": {},
     "output_type": "execute_result"
    }
   ],
   "source": [
    "1 + 3.4"
   ]
  },
  {
   "cell_type": "code",
   "execution_count": 35,
   "id": "4ed60c3a",
   "metadata": {},
   "outputs": [],
   "source": [
    "template = \"My name is\"\n",
    "my_name = \"langPython\""
   ]
  },
  {
   "cell_type": "code",
   "execution_count": 36,
   "id": "0553e751",
   "metadata": {},
   "outputs": [
    {
     "data": {
      "text/plain": [
       "'My name is langPython'"
      ]
     },
     "execution_count": 36,
     "metadata": {},
     "output_type": "execute_result"
    }
   ],
   "source": [
    "template + \" \" + my_name"
   ]
  },
  {
   "cell_type": "raw",
   "id": "7b5151bf",
   "metadata": {},
   "source": [
    "- strip, len, upper, lower, title, startswith, endswith, replace, check condition using index, split fuctions"
   ]
  },
  {
   "cell_type": "code",
   "execution_count": 37,
   "id": "5a0c03ee",
   "metadata": {},
   "outputs": [],
   "source": [
    "a = \" Data \""
   ]
  },
  {
   "cell_type": "code",
   "execution_count": 38,
   "id": "bf2b001c",
   "metadata": {},
   "outputs": [
    {
     "data": {
      "text/plain": [
       "' Data '"
      ]
     },
     "execution_count": 38,
     "metadata": {},
     "output_type": "execute_result"
    }
   ],
   "source": [
    "a"
   ]
  },
  {
   "cell_type": "code",
   "execution_count": 39,
   "id": "eddc49fb",
   "metadata": {},
   "outputs": [
    {
     "data": {
      "text/plain": [
       "'Data'"
      ]
     },
     "execution_count": 39,
     "metadata": {},
     "output_type": "execute_result"
    }
   ],
   "source": [
    "a.strip()"
   ]
  },
  {
   "cell_type": "code",
   "execution_count": 40,
   "id": "8bd2d05c",
   "metadata": {},
   "outputs": [
    {
     "data": {
      "text/plain": [
       "'kasim'"
      ]
     },
     "execution_count": 40,
     "metadata": {},
     "output_type": "execute_result"
    }
   ],
   "source": [
    "\".kasim.\".strip(\".\")"
   ]
  },
  {
   "cell_type": "code",
   "execution_count": 41,
   "id": "76f6dd44",
   "metadata": {},
   "outputs": [],
   "source": [
    "a = a.strip()"
   ]
  },
  {
   "cell_type": "code",
   "execution_count": 42,
   "id": "82043e11",
   "metadata": {},
   "outputs": [
    {
     "data": {
      "text/plain": [
       "'Data'"
      ]
     },
     "execution_count": 42,
     "metadata": {},
     "output_type": "execute_result"
    }
   ],
   "source": [
    "a"
   ]
  },
  {
   "cell_type": "code",
   "execution_count": 43,
   "id": "af0f7086",
   "metadata": {},
   "outputs": [
    {
     "data": {
      "text/plain": [
       "4"
      ]
     },
     "execution_count": 43,
     "metadata": {},
     "output_type": "execute_result"
    }
   ],
   "source": [
    "len(a)"
   ]
  },
  {
   "cell_type": "code",
   "execution_count": 44,
   "id": "a8998c86",
   "metadata": {},
   "outputs": [],
   "source": [
    "my_name_is = \"My name is langPython\""
   ]
  },
  {
   "cell_type": "code",
   "execution_count": 45,
   "id": "29dcaa6e",
   "metadata": {},
   "outputs": [
    {
     "data": {
      "text/plain": [
       "'My name is langPython'"
      ]
     },
     "execution_count": 45,
     "metadata": {},
     "output_type": "execute_result"
    }
   ],
   "source": [
    "my_name_is"
   ]
  },
  {
   "cell_type": "code",
   "execution_count": 46,
   "id": "7ee32b0c",
   "metadata": {},
   "outputs": [
    {
     "data": {
      "text/plain": [
       "'MY NAME IS LANGPYTHON'"
      ]
     },
     "execution_count": 46,
     "metadata": {},
     "output_type": "execute_result"
    }
   ],
   "source": [
    "my_name_is.upper()"
   ]
  },
  {
   "cell_type": "code",
   "execution_count": 47,
   "id": "4eea0bbc",
   "metadata": {},
   "outputs": [
    {
     "data": {
      "text/plain": [
       "'my name is langpython'"
      ]
     },
     "execution_count": 47,
     "metadata": {},
     "output_type": "execute_result"
    }
   ],
   "source": [
    "my_name_is.lower()"
   ]
  },
  {
   "cell_type": "code",
   "execution_count": 48,
   "id": "83e21fd7",
   "metadata": {},
   "outputs": [
    {
     "data": {
      "text/plain": [
       "'My Name Is Langpython'"
      ]
     },
     "execution_count": 48,
     "metadata": {},
     "output_type": "execute_result"
    }
   ],
   "source": [
    "my_name_is.title()"
   ]
  },
  {
   "cell_type": "code",
   "execution_count": 49,
   "id": "784943aa",
   "metadata": {},
   "outputs": [
    {
     "data": {
      "text/plain": [
       "21"
      ]
     },
     "execution_count": 49,
     "metadata": {},
     "output_type": "execute_result"
    }
   ],
   "source": [
    "len(my_name_is)"
   ]
  },
  {
   "cell_type": "code",
   "execution_count": 50,
   "id": "d98b4753",
   "metadata": {},
   "outputs": [
    {
     "data": {
      "text/plain": [
       "True"
      ]
     },
     "execution_count": 50,
     "metadata": {},
     "output_type": "execute_result"
    }
   ],
   "source": [
    "my_name_is.startswith(\"My\")"
   ]
  },
  {
   "cell_type": "code",
   "execution_count": 53,
   "id": "78f0fc5a",
   "metadata": {},
   "outputs": [
    {
     "data": {
      "text/plain": [
       "True"
      ]
     },
     "execution_count": 53,
     "metadata": {},
     "output_type": "execute_result"
    }
   ],
   "source": [
    "my_name_is.endswith(\"on\")"
   ]
  },
  {
   "cell_type": "code",
   "execution_count": 52,
   "id": "a97eb516",
   "metadata": {},
   "outputs": [
    {
     "data": {
      "text/plain": [
       "False"
      ]
     },
     "execution_count": 52,
     "metadata": {},
     "output_type": "execute_result"
    }
   ],
   "source": [
    "my_name_is.endswith(\"anil\")"
   ]
  },
  {
   "cell_type": "code",
   "execution_count": 54,
   "id": "49a3c47c",
   "metadata": {},
   "outputs": [
    {
     "data": {
      "text/plain": [
       "'My name is langPython'"
      ]
     },
     "execution_count": 54,
     "metadata": {},
     "output_type": "execute_result"
    }
   ],
   "source": [
    "my_name_is"
   ]
  },
  {
   "cell_type": "code",
   "execution_count": 65,
   "id": "b2b51915",
   "metadata": {},
   "outputs": [
    {
     "data": {
      "text/plain": [
       "'anil name is langPython'"
      ]
     },
     "execution_count": 65,
     "metadata": {},
     "output_type": "execute_result"
    }
   ],
   "source": [
    "my_name_is.replace(\"My\", \"anil\")"
   ]
  },
  {
   "cell_type": "code",
   "execution_count": 61,
   "id": "2c4d5299",
   "metadata": {},
   "outputs": [],
   "source": [
    "template = \"My name is {0}\""
   ]
  },
  {
   "cell_type": "code",
   "execution_count": 62,
   "id": "f1d2a86b",
   "metadata": {},
   "outputs": [
    {
     "data": {
      "text/plain": [
       "'My name is shilpa'"
      ]
     },
     "execution_count": 62,
     "metadata": {},
     "output_type": "execute_result"
    }
   ],
   "source": [
    "template.format(\"shilpa\")"
   ]
  },
  {
   "cell_type": "code",
   "execution_count": 63,
   "id": "47c70d11",
   "metadata": {},
   "outputs": [
    {
     "data": {
      "text/plain": [
       "'My name is Jack'"
      ]
     },
     "execution_count": 63,
     "metadata": {},
     "output_type": "execute_result"
    }
   ],
   "source": [
    "template.format(\"Jack\")"
   ]
  },
  {
   "cell_type": "code",
   "execution_count": 64,
   "id": "0b2f8a6b",
   "metadata": {},
   "outputs": [
    {
     "data": {
      "text/plain": [
       "'My name is Lakshmi'"
      ]
     },
     "execution_count": 64,
     "metadata": {},
     "output_type": "execute_result"
    }
   ],
   "source": [
    "template.format(\"Lakshmi\")"
   ]
  },
  {
   "cell_type": "code",
   "execution_count": 67,
   "id": "4789af4a",
   "metadata": {},
   "outputs": [],
   "source": [
    "template2 = \"My name is {0}, I am a {1}.\""
   ]
  },
  {
   "cell_type": "code",
   "execution_count": 68,
   "id": "6b529ce5",
   "metadata": {},
   "outputs": [
    {
     "data": {
      "text/plain": [
       "'My name is pyhon, I am a language.'"
      ]
     },
     "execution_count": 68,
     "metadata": {},
     "output_type": "execute_result"
    }
   ],
   "source": [
    "template2.format(\"pyhon\", \"language\")"
   ]
  },
  {
   "cell_type": "code",
   "execution_count": 120,
   "id": "dbfcf3be",
   "metadata": {},
   "outputs": [
    {
     "data": {
      "text/plain": [
       "'My name is Jack, I am a Learner.'"
      ]
     },
     "execution_count": 120,
     "metadata": {},
     "output_type": "execute_result"
    }
   ],
   "source": [
    "template2.format(\"Jack\", \"Learner\")"
   ]
  },
  {
   "cell_type": "code",
   "execution_count": 123,
   "id": "95a80259",
   "metadata": {},
   "outputs": [
    {
     "data": {
      "text/plain": [
       "True"
      ]
     },
     "execution_count": 123,
     "metadata": {},
     "output_type": "execute_result"
    }
   ],
   "source": [
    "my_name_is.startswith(\"M\")"
   ]
  },
  {
   "cell_type": "code",
   "execution_count": 127,
   "id": "2596e3f3",
   "metadata": {},
   "outputs": [
    {
     "data": {
      "text/plain": [
       "True"
      ]
     },
     "execution_count": 127,
     "metadata": {},
     "output_type": "execute_result"
    }
   ],
   "source": [
    "my_name_is[0] == \"M\""
   ]
  },
  {
   "cell_type": "code",
   "execution_count": 129,
   "id": "0de22270",
   "metadata": {},
   "outputs": [
    {
     "data": {
      "text/plain": [
       "False"
      ]
     },
     "execution_count": 129,
     "metadata": {},
     "output_type": "execute_result"
    }
   ],
   "source": [
    "my_name_is[4] == \"H\""
   ]
  },
  {
   "cell_type": "code",
   "execution_count": 131,
   "id": "4aa94081",
   "metadata": {},
   "outputs": [
    {
     "data": {
      "text/plain": [
       "str"
      ]
     },
     "execution_count": 131,
     "metadata": {},
     "output_type": "execute_result"
    }
   ],
   "source": [
    "type(my_name_is)"
   ]
  },
  {
   "cell_type": "code",
   "execution_count": 17,
   "id": "6ecf089d",
   "metadata": {},
   "outputs": [
    {
     "data": {
      "text/plain": [
       "str"
      ]
     },
     "execution_count": 17,
     "metadata": {},
     "output_type": "execute_result"
    }
   ],
   "source": [
    "type(my_name_is)"
   ]
  },
  {
   "cell_type": "code",
   "execution_count": 69,
   "id": "05b96358",
   "metadata": {},
   "outputs": [],
   "source": [
    "lst = my_name_is.split()"
   ]
  },
  {
   "cell_type": "code",
   "execution_count": 70,
   "id": "d032e0cf",
   "metadata": {},
   "outputs": [
    {
     "data": {
      "text/plain": [
       "['My', 'name', 'is', 'langPython']"
      ]
     },
     "execution_count": 70,
     "metadata": {},
     "output_type": "execute_result"
    }
   ],
   "source": [
    "lst\n"
   ]
  },
  {
   "cell_type": "code",
   "execution_count": null,
   "id": "7bf64ae4",
   "metadata": {},
   "outputs": [],
   "source": []
  },
  {
   "cell_type": "code",
   "execution_count": 71,
   "id": "8071eb93",
   "metadata": {},
   "outputs": [
    {
     "data": {
      "text/plain": [
       "list"
      ]
     },
     "execution_count": 71,
     "metadata": {},
     "output_type": "execute_result"
    }
   ],
   "source": [
    "type(lst)"
   ]
  },
  {
   "cell_type": "code",
   "execution_count": 72,
   "id": "ede9170b",
   "metadata": {},
   "outputs": [
    {
     "data": {
      "text/plain": [
       "['My', 'name', 'is', 'langPython']"
      ]
     },
     "execution_count": 72,
     "metadata": {},
     "output_type": "execute_result"
    }
   ],
   "source": [
    "lst"
   ]
  },
  {
   "cell_type": "code",
   "execution_count": 73,
   "id": "5f6ed79b",
   "metadata": {},
   "outputs": [
    {
     "data": {
      "text/plain": [
       "['My na', 'e is langPython']"
      ]
     },
     "execution_count": 73,
     "metadata": {},
     "output_type": "execute_result"
    }
   ],
   "source": [
    "my_name_is.split(\"m\")"
   ]
  },
  {
   "cell_type": "code",
   "execution_count": 74,
   "id": "2c1bea2c",
   "metadata": {},
   "outputs": [
    {
     "data": {
      "text/plain": [
       "['My', 'name', 'is', 'langPython']"
      ]
     },
     "execution_count": 74,
     "metadata": {},
     "output_type": "execute_result"
    }
   ],
   "source": [
    "my_name_is.split()"
   ]
  },
  {
   "cell_type": "code",
   "execution_count": 75,
   "id": "817ad478",
   "metadata": {},
   "outputs": [
    {
     "data": {
      "text/plain": [
       "['My', 'name', 'is', 'langPython']"
      ]
     },
     "execution_count": 75,
     "metadata": {},
     "output_type": "execute_result"
    }
   ],
   "source": [
    "lst"
   ]
  },
  {
   "cell_type": "code",
   "execution_count": 76,
   "id": "b6452896",
   "metadata": {},
   "outputs": [
    {
     "data": {
      "text/plain": [
       "list"
      ]
     },
     "execution_count": 76,
     "metadata": {},
     "output_type": "execute_result"
    }
   ],
   "source": [
    "\n",
    "\n",
    "type(lst)"
   ]
  },
  {
   "cell_type": "raw",
   "id": "0d30bc40",
   "metadata": {},
   "source": [
    "-> List: ( Represents by Square brackets [ ] )\n",
    "Heterogeneous, Ordered, Changeble\n",
    "- Indexing and slicing list  ( positive and negative )\n",
    "- Changing items in list using indexing\n",
    "- len, append , extend , insert , remove, reverse, pop , sort , clear , copy , count , index\n",
    "- addition of list , list(range( , ))"
   ]
  },
  {
   "cell_type": "code",
   "execution_count": 77,
   "id": "3b1fae9c",
   "metadata": {},
   "outputs": [],
   "source": [
    "programming = [\"R\", \"Python\", \"Julia\", \"Java\", \"JavaScript\"]"
   ]
  },
  {
   "cell_type": "raw",
   "id": "eee133de",
   "metadata": {},
   "source": [
    "- Indexing and slicing list  ( positive and negative )"
   ]
  },
  {
   "cell_type": "code",
   "execution_count": 78,
   "id": "8e151fbf",
   "metadata": {},
   "outputs": [
    {
     "data": {
      "text/plain": [
       "'R'"
      ]
     },
     "execution_count": 78,
     "metadata": {},
     "output_type": "execute_result"
    }
   ],
   "source": [
    "programming[0]"
   ]
  },
  {
   "cell_type": "code",
   "execution_count": 79,
   "id": "3deec4f7",
   "metadata": {},
   "outputs": [
    {
     "data": {
      "text/plain": [
       "'JavaScript'"
      ]
     },
     "execution_count": 79,
     "metadata": {},
     "output_type": "execute_result"
    }
   ],
   "source": [
    "programming[-1]"
   ]
  },
  {
   "cell_type": "code",
   "execution_count": 80,
   "id": "e0272d98",
   "metadata": {},
   "outputs": [
    {
     "data": {
      "text/plain": [
       "'Java'"
      ]
     },
     "execution_count": 80,
     "metadata": {},
     "output_type": "execute_result"
    }
   ],
   "source": [
    "programming[3]"
   ]
  },
  {
   "cell_type": "code",
   "execution_count": 81,
   "id": "dda822e1",
   "metadata": {},
   "outputs": [
    {
     "data": {
      "text/plain": [
       "'Java'"
      ]
     },
     "execution_count": 81,
     "metadata": {},
     "output_type": "execute_result"
    }
   ],
   "source": [
    "programming[-2]"
   ]
  },
  {
   "cell_type": "code",
   "execution_count": 82,
   "id": "4152b6b7",
   "metadata": {},
   "outputs": [
    {
     "data": {
      "text/plain": [
       "['Python', 'Julia']"
      ]
     },
     "execution_count": 82,
     "metadata": {},
     "output_type": "execute_result"
    }
   ],
   "source": [
    "programming[1 : 3]"
   ]
  },
  {
   "cell_type": "code",
   "execution_count": 83,
   "id": "97f171e0",
   "metadata": {},
   "outputs": [
    {
     "data": {
      "text/plain": [
       "['Python', 'Julia']"
      ]
     },
     "execution_count": 83,
     "metadata": {},
     "output_type": "execute_result"
    }
   ],
   "source": [
    "programming[-4 : -2]"
   ]
  },
  {
   "cell_type": "code",
   "execution_count": 84,
   "id": "85a3c5c7",
   "metadata": {},
   "outputs": [
    {
     "data": {
      "text/plain": [
       "['R', 'Python', 'Julia']"
      ]
     },
     "execution_count": 84,
     "metadata": {},
     "output_type": "execute_result"
    }
   ],
   "source": [
    "programming[ : 3]"
   ]
  },
  {
   "cell_type": "code",
   "execution_count": 85,
   "id": "e2934551",
   "metadata": {},
   "outputs": [
    {
     "data": {
      "text/plain": [
       "['Java', 'JavaScript']"
      ]
     },
     "execution_count": 85,
     "metadata": {},
     "output_type": "execute_result"
    }
   ],
   "source": [
    "programming[3 : ]"
   ]
  },
  {
   "cell_type": "raw",
   "id": "dca3a8d5",
   "metadata": {},
   "source": [
    "- Changing items in list using indexing"
   ]
  },
  {
   "cell_type": "code",
   "execution_count": 86,
   "id": "489049c3",
   "metadata": {},
   "outputs": [
    {
     "data": {
      "text/plain": [
       "['R', 'Python', 'Julia', 'Java', 'JavaScript']"
      ]
     },
     "execution_count": 86,
     "metadata": {},
     "output_type": "execute_result"
    }
   ],
   "source": [
    "programming"
   ]
  },
  {
   "cell_type": "code",
   "execution_count": 87,
   "id": "ab40143f",
   "metadata": {},
   "outputs": [
    {
     "data": {
      "text/plain": [
       "'Java'"
      ]
     },
     "execution_count": 87,
     "metadata": {},
     "output_type": "execute_result"
    }
   ],
   "source": [
    "programming[3]"
   ]
  },
  {
   "cell_type": "code",
   "execution_count": 88,
   "id": "cd9853f4",
   "metadata": {},
   "outputs": [],
   "source": [
    "programming[3] = \"C\""
   ]
  },
  {
   "cell_type": "code",
   "execution_count": 89,
   "id": "ab89b653",
   "metadata": {},
   "outputs": [
    {
     "data": {
      "text/plain": [
       "['R', 'Python', 'Julia', 'C', 'JavaScript']"
      ]
     },
     "execution_count": 89,
     "metadata": {},
     "output_type": "execute_result"
    }
   ],
   "source": [
    "programming"
   ]
  },
  {
   "cell_type": "raw",
   "id": "d31b5b97",
   "metadata": {},
   "source": [
    "- len, append , extend , insert , remove, reverse, pop , sort , clear , copy , count , index"
   ]
  },
  {
   "cell_type": "code",
   "execution_count": 90,
   "id": "f894e08b",
   "metadata": {},
   "outputs": [
    {
     "data": {
      "text/plain": [
       "['R', 'Python', 'Julia', 'C', 'JavaScript']"
      ]
     },
     "execution_count": 90,
     "metadata": {},
     "output_type": "execute_result"
    }
   ],
   "source": [
    "programming"
   ]
  },
  {
   "cell_type": "code",
   "execution_count": 91,
   "id": "079a0cbe",
   "metadata": {},
   "outputs": [
    {
     "data": {
      "text/plain": [
       "5"
      ]
     },
     "execution_count": 91,
     "metadata": {},
     "output_type": "execute_result"
    }
   ],
   "source": [
    "len(programming)"
   ]
  },
  {
   "cell_type": "code",
   "execution_count": 92,
   "id": "6f26372d",
   "metadata": {},
   "outputs": [
    {
     "data": {
      "text/plain": [
       "['R', 'Python', 'Julia', 'C', 'JavaScript']"
      ]
     },
     "execution_count": 92,
     "metadata": {},
     "output_type": "execute_result"
    }
   ],
   "source": [
    "programming"
   ]
  },
  {
   "cell_type": "code",
   "execution_count": 93,
   "id": "6e422739",
   "metadata": {},
   "outputs": [],
   "source": [
    "programming.append(\"Java\")"
   ]
  },
  {
   "cell_type": "code",
   "execution_count": 94,
   "id": "eadc46ad",
   "metadata": {},
   "outputs": [
    {
     "data": {
      "text/plain": [
       "['R', 'Python', 'Julia', 'C', 'JavaScript', 'Java']"
      ]
     },
     "execution_count": 94,
     "metadata": {},
     "output_type": "execute_result"
    }
   ],
   "source": [
    "programming"
   ]
  },
  {
   "cell_type": "code",
   "execution_count": 95,
   "id": "505fc506",
   "metadata": {},
   "outputs": [],
   "source": [
    "programming.extend([\"C++\", \"C#\"])"
   ]
  },
  {
   "cell_type": "code",
   "execution_count": 96,
   "id": "a11893e2",
   "metadata": {},
   "outputs": [
    {
     "data": {
      "text/plain": [
       "['R', 'Python', 'Julia', 'C', 'JavaScript', 'Java', 'C++', 'C#']"
      ]
     },
     "execution_count": 96,
     "metadata": {},
     "output_type": "execute_result"
    }
   ],
   "source": [
    "programming"
   ]
  },
  {
   "cell_type": "code",
   "execution_count": 97,
   "id": "801ca3bb",
   "metadata": {},
   "outputs": [],
   "source": [
    "programming.insert(1, \"SQL\")"
   ]
  },
  {
   "cell_type": "code",
   "execution_count": 98,
   "id": "54361d54",
   "metadata": {},
   "outputs": [
    {
     "data": {
      "text/plain": [
       "['R', 'SQL', 'Python', 'Julia', 'C', 'JavaScript', 'Java', 'C++', 'C#']"
      ]
     },
     "execution_count": 98,
     "metadata": {},
     "output_type": "execute_result"
    }
   ],
   "source": [
    "programming"
   ]
  },
  {
   "cell_type": "code",
   "execution_count": 99,
   "id": "72bf257b",
   "metadata": {},
   "outputs": [],
   "source": [
    "programming.append([\"C\", \"C++\"])"
   ]
  },
  {
   "cell_type": "code",
   "execution_count": 100,
   "id": "f02d6934",
   "metadata": {},
   "outputs": [
    {
     "data": {
      "text/plain": [
       "['R',\n",
       " 'SQL',\n",
       " 'Python',\n",
       " 'Julia',\n",
       " 'C',\n",
       " 'JavaScript',\n",
       " 'Java',\n",
       " 'C++',\n",
       " 'C#',\n",
       " ['C', 'C++']]"
      ]
     },
     "execution_count": 100,
     "metadata": {},
     "output_type": "execute_result"
    }
   ],
   "source": [
    "programming"
   ]
  },
  {
   "cell_type": "code",
   "execution_count": 101,
   "id": "b1b95a34",
   "metadata": {},
   "outputs": [
    {
     "data": {
      "text/plain": [
       "['C', 'C++']"
      ]
     },
     "execution_count": 101,
     "metadata": {},
     "output_type": "execute_result"
    }
   ],
   "source": [
    "programming[-1]"
   ]
  },
  {
   "cell_type": "code",
   "execution_count": 103,
   "id": "280d6ddc",
   "metadata": {},
   "outputs": [],
   "source": [
    "programming.extend([\"SQL\", \"Powebi\"])"
   ]
  },
  {
   "cell_type": "code",
   "execution_count": 111,
   "id": "fd133aaa",
   "metadata": {},
   "outputs": [
    {
     "data": {
      "text/plain": [
       "['R', 'Python', 'Julia', 'Java', 'JavaScript']"
      ]
     },
     "execution_count": 111,
     "metadata": {},
     "output_type": "execute_result"
    }
   ],
   "source": [
    "programming"
   ]
  },
  {
   "cell_type": "code",
   "execution_count": 112,
   "id": "6e8833f0",
   "metadata": {},
   "outputs": [
    {
     "data": {
      "text/plain": [
       "'JavaScript'"
      ]
     },
     "execution_count": 112,
     "metadata": {},
     "output_type": "execute_result"
    }
   ],
   "source": [
    "programming[-1]"
   ]
  },
  {
   "cell_type": "code",
   "execution_count": 113,
   "id": "7eec68f9",
   "metadata": {},
   "outputs": [],
   "source": [
    "programming.insert(1, [\"Pascal\", \"Powerbi\"])"
   ]
  },
  {
   "cell_type": "code",
   "execution_count": 114,
   "id": "97e78104",
   "metadata": {},
   "outputs": [
    {
     "data": {
      "text/plain": [
       "['R', ['Pascal', 'Powerbi'], 'Python', 'Julia', 'Java', 'JavaScript']"
      ]
     },
     "execution_count": 114,
     "metadata": {},
     "output_type": "execute_result"
    }
   ],
   "source": [
    "programming"
   ]
  },
  {
   "cell_type": "code",
   "execution_count": 115,
   "id": "1bc42560",
   "metadata": {},
   "outputs": [],
   "source": [
    "programming = [\"R\", \"Python\", \"Julia\", \"Java\", \"JavaScript\"]"
   ]
  },
  {
   "cell_type": "code",
   "execution_count": 116,
   "id": "76dab5de",
   "metadata": {},
   "outputs": [
    {
     "data": {
      "text/plain": [
       "['R', 'Python', 'Julia', 'Java', 'JavaScript']"
      ]
     },
     "execution_count": 116,
     "metadata": {},
     "output_type": "execute_result"
    }
   ],
   "source": [
    "programming"
   ]
  },
  {
   "cell_type": "code",
   "execution_count": 117,
   "id": "82fd7325",
   "metadata": {},
   "outputs": [],
   "source": [
    "programming.remove(\"Java\")"
   ]
  },
  {
   "cell_type": "code",
   "execution_count": 118,
   "id": "639a90dc",
   "metadata": {},
   "outputs": [
    {
     "data": {
      "text/plain": [
       "['R', 'Python', 'Julia', 'JavaScript']"
      ]
     },
     "execution_count": 118,
     "metadata": {},
     "output_type": "execute_result"
    }
   ],
   "source": [
    "programming"
   ]
  },
  {
   "cell_type": "code",
   "execution_count": 120,
   "id": "65834fba",
   "metadata": {},
   "outputs": [],
   "source": [
    "a = [\"Wasim\", \"nabil\", \"rehan\", \"Wasim\"]"
   ]
  },
  {
   "cell_type": "code",
   "execution_count": 123,
   "id": "e5af645f",
   "metadata": {},
   "outputs": [],
   "source": [
    "a.remove(\"Wasim\")"
   ]
  },
  {
   "cell_type": "code",
   "execution_count": 124,
   "id": "1336ec72",
   "metadata": {},
   "outputs": [
    {
     "data": {
      "text/plain": [
       "['nabil', 'rehan', 'Wasim']"
      ]
     },
     "execution_count": 124,
     "metadata": {},
     "output_type": "execute_result"
    }
   ],
   "source": [
    "a"
   ]
  },
  {
   "cell_type": "code",
   "execution_count": 125,
   "id": "e31fa335",
   "metadata": {},
   "outputs": [
    {
     "data": {
      "text/plain": [
       "['R', 'Python', 'Julia', 'JavaScript']"
      ]
     },
     "execution_count": 125,
     "metadata": {},
     "output_type": "execute_result"
    }
   ],
   "source": [
    "programming"
   ]
  },
  {
   "cell_type": "code",
   "execution_count": 126,
   "id": "9858392b",
   "metadata": {},
   "outputs": [],
   "source": [
    "programming.reverse()"
   ]
  },
  {
   "cell_type": "code",
   "execution_count": 127,
   "id": "8abf6eda",
   "metadata": {},
   "outputs": [
    {
     "data": {
      "text/plain": [
       "['JavaScript', 'Julia', 'Python', 'R']"
      ]
     },
     "execution_count": 127,
     "metadata": {},
     "output_type": "execute_result"
    }
   ],
   "source": [
    "programming"
   ]
  },
  {
   "cell_type": "code",
   "execution_count": 128,
   "id": "dc5579a5",
   "metadata": {},
   "outputs": [],
   "source": [
    "r = programming.pop()"
   ]
  },
  {
   "cell_type": "code",
   "execution_count": 129,
   "id": "61476560",
   "metadata": {},
   "outputs": [
    {
     "data": {
      "text/plain": [
       "'R'"
      ]
     },
     "execution_count": 129,
     "metadata": {},
     "output_type": "execute_result"
    }
   ],
   "source": [
    "r"
   ]
  },
  {
   "cell_type": "code",
   "execution_count": 130,
   "id": "782c1092",
   "metadata": {},
   "outputs": [
    {
     "data": {
      "text/plain": [
       "['JavaScript', 'Julia', 'Python']"
      ]
     },
     "execution_count": 130,
     "metadata": {},
     "output_type": "execute_result"
    }
   ],
   "source": [
    "programming"
   ]
  },
  {
   "cell_type": "code",
   "execution_count": 131,
   "id": "4b6b2bdc",
   "metadata": {},
   "outputs": [],
   "source": [
    "num = [3,1,4,2,2,1,1]"
   ]
  },
  {
   "cell_type": "code",
   "execution_count": 132,
   "id": "968a5ca9",
   "metadata": {},
   "outputs": [],
   "source": [
    "num.sort()"
   ]
  },
  {
   "cell_type": "code",
   "execution_count": 133,
   "id": "6ebcb648",
   "metadata": {},
   "outputs": [
    {
     "data": {
      "text/plain": [
       "[1, 1, 1, 2, 2, 3, 4]"
      ]
     },
     "execution_count": 133,
     "metadata": {},
     "output_type": "execute_result"
    }
   ],
   "source": [
    "num"
   ]
  },
  {
   "cell_type": "code",
   "execution_count": 134,
   "id": "48f21c9d",
   "metadata": {},
   "outputs": [],
   "source": [
    "num.sort(reverse=True)"
   ]
  },
  {
   "cell_type": "code",
   "execution_count": 135,
   "id": "6c418ba9",
   "metadata": {},
   "outputs": [
    {
     "data": {
      "text/plain": [
       "[4, 3, 2, 2, 1, 1, 1]"
      ]
     },
     "execution_count": 135,
     "metadata": {},
     "output_type": "execute_result"
    }
   ],
   "source": [
    "num"
   ]
  },
  {
   "cell_type": "code",
   "execution_count": 136,
   "id": "a368f5b0",
   "metadata": {},
   "outputs": [],
   "source": [
    "programming.sort()"
   ]
  },
  {
   "cell_type": "code",
   "execution_count": 137,
   "id": "83ee3908",
   "metadata": {},
   "outputs": [],
   "source": [
    "programming.sort(reverse= True)"
   ]
  },
  {
   "cell_type": "code",
   "execution_count": 138,
   "id": "1f6568c4",
   "metadata": {},
   "outputs": [
    {
     "data": {
      "text/plain": [
       "['Python', 'Julia', 'JavaScript']"
      ]
     },
     "execution_count": 138,
     "metadata": {},
     "output_type": "execute_result"
    }
   ],
   "source": [
    "programming"
   ]
  },
  {
   "cell_type": "code",
   "execution_count": 139,
   "id": "e85113db",
   "metadata": {},
   "outputs": [],
   "source": [
    "a = [1,2,3]\n",
    "b = a.copy()"
   ]
  },
  {
   "cell_type": "code",
   "execution_count": 140,
   "id": "0b278f78",
   "metadata": {},
   "outputs": [
    {
     "data": {
      "text/plain": [
       "[1, 2, 3]"
      ]
     },
     "execution_count": 140,
     "metadata": {},
     "output_type": "execute_result"
    }
   ],
   "source": [
    "a"
   ]
  },
  {
   "cell_type": "code",
   "execution_count": 141,
   "id": "8ed17afb",
   "metadata": {},
   "outputs": [
    {
     "data": {
      "text/plain": [
       "[1, 2, 3]"
      ]
     },
     "execution_count": 141,
     "metadata": {},
     "output_type": "execute_result"
    }
   ],
   "source": [
    "b"
   ]
  },
  {
   "cell_type": "code",
   "execution_count": 144,
   "id": "25fa891b",
   "metadata": {},
   "outputs": [],
   "source": [
    "names = [\"Wasim\", \"Jack\", \"Soon\", \"Wasim\"]"
   ]
  },
  {
   "cell_type": "code",
   "execution_count": 146,
   "id": "d7dc84e6",
   "metadata": {},
   "outputs": [
    {
     "data": {
      "text/plain": [
       "0"
      ]
     },
     "execution_count": 146,
     "metadata": {},
     "output_type": "execute_result"
    }
   ],
   "source": [
    "names.count(\"kasim\")"
   ]
  },
  {
   "cell_type": "code",
   "execution_count": 147,
   "id": "3e2ea371",
   "metadata": {},
   "outputs": [
    {
     "data": {
      "text/plain": [
       "1"
      ]
     },
     "execution_count": 147,
     "metadata": {},
     "output_type": "execute_result"
    }
   ],
   "source": [
    "names.count(\"Soon\")"
   ]
  },
  {
   "cell_type": "code",
   "execution_count": 148,
   "id": "e8e21012",
   "metadata": {},
   "outputs": [
    {
     "data": {
      "text/plain": [
       "0"
      ]
     },
     "execution_count": 148,
     "metadata": {},
     "output_type": "execute_result"
    }
   ],
   "source": [
    "names.count(\"james\")"
   ]
  },
  {
   "cell_type": "code",
   "execution_count": 149,
   "id": "904f7997",
   "metadata": {},
   "outputs": [
    {
     "data": {
      "text/plain": [
       "2"
      ]
     },
     "execution_count": 149,
     "metadata": {},
     "output_type": "execute_result"
    }
   ],
   "source": [
    "names.index(\"Soon\")"
   ]
  },
  {
   "cell_type": "code",
   "execution_count": 150,
   "id": "e2fc1b7e",
   "metadata": {},
   "outputs": [
    {
     "data": {
      "text/plain": [
       "1"
      ]
     },
     "execution_count": 150,
     "metadata": {},
     "output_type": "execute_result"
    }
   ],
   "source": [
    "names.index(\"Jack\")"
   ]
  },
  {
   "cell_type": "code",
   "execution_count": 151,
   "id": "9cd79e90",
   "metadata": {},
   "outputs": [
    {
     "ename": "ValueError",
     "evalue": "'james' is not in list",
     "output_type": "error",
     "traceback": [
      "\u001b[0;31m---------------------------------------------------------------------------\u001b[0m",
      "\u001b[0;31mValueError\u001b[0m                                Traceback (most recent call last)",
      "Input \u001b[0;32mIn [151]\u001b[0m, in \u001b[0;36m<cell line: 1>\u001b[0;34m()\u001b[0m\n\u001b[0;32m----> 1\u001b[0m \u001b[43mnames\u001b[49m\u001b[38;5;241;43m.\u001b[39;49m\u001b[43mindex\u001b[49m\u001b[43m(\u001b[49m\u001b[38;5;124;43m\"\u001b[39;49m\u001b[38;5;124;43mjames\u001b[39;49m\u001b[38;5;124;43m\"\u001b[39;49m\u001b[43m)\u001b[49m\n",
      "\u001b[0;31mValueError\u001b[0m: 'james' is not in list"
     ]
    }
   ],
   "source": [
    "names.index(\"james\")"
   ]
  },
  {
   "cell_type": "code",
   "execution_count": 152,
   "id": "5c8b3a7a",
   "metadata": {},
   "outputs": [
    {
     "data": {
      "text/plain": [
       "['Wasim', 'Jack', 'Soon', 'Wasim']"
      ]
     },
     "execution_count": 152,
     "metadata": {},
     "output_type": "execute_result"
    }
   ],
   "source": [
    "names"
   ]
  },
  {
   "cell_type": "code",
   "execution_count": 154,
   "id": "98f304f8",
   "metadata": {},
   "outputs": [
    {
     "data": {
      "text/plain": [
       "0"
      ]
     },
     "execution_count": 154,
     "metadata": {},
     "output_type": "execute_result"
    }
   ],
   "source": [
    "names.index(\"Wasim\")"
   ]
  },
  {
   "cell_type": "raw",
   "id": "fe3f920b",
   "metadata": {},
   "source": [
    "- addition of list , list(range( , ))"
   ]
  },
  {
   "cell_type": "code",
   "execution_count": 155,
   "id": "6656a5c3",
   "metadata": {},
   "outputs": [],
   "source": [
    "names.extend([\"James\"])"
   ]
  },
  {
   "cell_type": "code",
   "execution_count": 156,
   "id": "a516e517",
   "metadata": {},
   "outputs": [
    {
     "data": {
      "text/plain": [
       "['Wasim', 'Jack', 'Soon', 'Wasim', 'James']"
      ]
     },
     "execution_count": 156,
     "metadata": {},
     "output_type": "execute_result"
    }
   ],
   "source": [
    "names"
   ]
  },
  {
   "cell_type": "code",
   "execution_count": 157,
   "id": "cf7ecbc4",
   "metadata": {},
   "outputs": [
    {
     "data": {
      "text/plain": [
       "['Wasim', 'Jack', 'Soon', 'Wasim', 'James', 'Jack']"
      ]
     },
     "execution_count": 157,
     "metadata": {},
     "output_type": "execute_result"
    }
   ],
   "source": [
    "names + [\"Jack\"]"
   ]
  },
  {
   "cell_type": "code",
   "execution_count": 158,
   "id": "20e703ff",
   "metadata": {},
   "outputs": [
    {
     "data": {
      "text/plain": [
       "2"
      ]
     },
     "execution_count": 158,
     "metadata": {},
     "output_type": "execute_result"
    }
   ],
   "source": [
    "1 + 1"
   ]
  },
  {
   "cell_type": "code",
   "execution_count": 159,
   "id": "03b0df80",
   "metadata": {},
   "outputs": [
    {
     "data": {
      "text/plain": [
       "'11'"
      ]
     },
     "execution_count": 159,
     "metadata": {},
     "output_type": "execute_result"
    }
   ],
   "source": [
    "\"1\" + \"1\""
   ]
  },
  {
   "cell_type": "code",
   "execution_count": 160,
   "id": "7f422038",
   "metadata": {},
   "outputs": [
    {
     "data": {
      "text/plain": [
       "[1, 1]"
      ]
     },
     "execution_count": 160,
     "metadata": {},
     "output_type": "execute_result"
    }
   ],
   "source": [
    "[1] + [1]"
   ]
  },
  {
   "cell_type": "code",
   "execution_count": 161,
   "id": "9aa00e1b",
   "metadata": {},
   "outputs": [
    {
     "data": {
      "text/plain": [
       "[0, 1, 2, 3, 4, 5, 6, 7, 8, 9, 10]"
      ]
     },
     "execution_count": 161,
     "metadata": {},
     "output_type": "execute_result"
    }
   ],
   "source": [
    "list(range(0,11))"
   ]
  },
  {
   "cell_type": "code",
   "execution_count": 162,
   "id": "084c7ac6",
   "metadata": {},
   "outputs": [
    {
     "data": {
      "text/plain": [
       "[0, 2, 4, 6, 8, 10]"
      ]
     },
     "execution_count": 162,
     "metadata": {},
     "output_type": "execute_result"
    }
   ],
   "source": [
    "list(range(0,11 , 2)) # even"
   ]
  },
  {
   "cell_type": "code",
   "execution_count": 163,
   "id": "166fd169",
   "metadata": {},
   "outputs": [
    {
     "data": {
      "text/plain": [
       "[1, 3, 5, 7, 9]"
      ]
     },
     "execution_count": 163,
     "metadata": {},
     "output_type": "execute_result"
    }
   ],
   "source": [
    "list(range(1,11 , 2))  # odd"
   ]
  },
  {
   "cell_type": "code",
   "execution_count": 164,
   "id": "69d17e52",
   "metadata": {},
   "outputs": [
    {
     "data": {
      "text/plain": [
       "[0, 5, 10]"
      ]
     },
     "execution_count": 164,
     "metadata": {},
     "output_type": "execute_result"
    }
   ],
   "source": [
    "list(range(0,11 , 5))"
   ]
  },
  {
   "cell_type": "code",
   "execution_count": 166,
   "id": "4480aed9",
   "metadata": {},
   "outputs": [
    {
     "data": {
      "text/plain": [
       "[1, 'Wasim', [1, 2]]"
      ]
     },
     "execution_count": 166,
     "metadata": {},
     "output_type": "execute_result"
    }
   ],
   "source": [
    "[1, \"Wasim\",[1,2]]"
   ]
  },
  {
   "cell_type": "raw",
   "id": "52685fb7",
   "metadata": {},
   "source": [
    "-> Tuples: ( Represents by round brackets () )\n",
    "Heterogeneous, Ordered, Unchangable\n",
    "- Indexing and slicing tuple ( positive and negative )\n",
    "- Changing items in tuple using indexing ( gives error since not changable )\n",
    "- len , count , index\n",
    "- addition of tuple , tuple(range( , ))"
   ]
  },
  {
   "cell_type": "code",
   "execution_count": 167,
   "id": "6e710b9f",
   "metadata": {},
   "outputs": [
    {
     "data": {
      "text/plain": [
       "(1, '1')"
      ]
     },
     "execution_count": 167,
     "metadata": {},
     "output_type": "execute_result"
    }
   ],
   "source": [
    "(1, \"1\")"
   ]
  },
  {
   "cell_type": "code",
   "execution_count": 168,
   "id": "ae571c95",
   "metadata": {},
   "outputs": [],
   "source": [
    "tuple1 = (\"Wasim\", \"nabil\", \"rehan\")"
   ]
  },
  {
   "cell_type": "code",
   "execution_count": 169,
   "id": "353a0cdf",
   "metadata": {},
   "outputs": [
    {
     "data": {
      "text/plain": [
       "'Wasim'"
      ]
     },
     "execution_count": 169,
     "metadata": {},
     "output_type": "execute_result"
    }
   ],
   "source": [
    "tuple1[0]"
   ]
  },
  {
   "cell_type": "code",
   "execution_count": 170,
   "id": "6f0101ef",
   "metadata": {},
   "outputs": [
    {
     "data": {
      "text/plain": [
       "'rehan'"
      ]
     },
     "execution_count": 170,
     "metadata": {},
     "output_type": "execute_result"
    }
   ],
   "source": [
    "tuple1[-1]"
   ]
  },
  {
   "cell_type": "code",
   "execution_count": 171,
   "id": "5cdea1fa",
   "metadata": {},
   "outputs": [
    {
     "data": {
      "text/plain": [
       "('Wasim', 'nabil', 'rehan')"
      ]
     },
     "execution_count": 171,
     "metadata": {},
     "output_type": "execute_result"
    }
   ],
   "source": [
    "tuple1[ : 3]"
   ]
  },
  {
   "cell_type": "code",
   "execution_count": 172,
   "id": "55eb808f",
   "metadata": {},
   "outputs": [
    {
     "data": {
      "text/plain": [
       "('rehan',)"
      ]
     },
     "execution_count": 172,
     "metadata": {},
     "output_type": "execute_result"
    }
   ],
   "source": [
    "tuple1[-1:]"
   ]
  },
  {
   "cell_type": "code",
   "execution_count": 173,
   "id": "473c937f",
   "metadata": {},
   "outputs": [
    {
     "ename": "TypeError",
     "evalue": "'tuple' object does not support item assignment",
     "output_type": "error",
     "traceback": [
      "\u001b[0;31m---------------------------------------------------------------------------\u001b[0m",
      "\u001b[0;31mTypeError\u001b[0m                                 Traceback (most recent call last)",
      "Input \u001b[0;32mIn [173]\u001b[0m, in \u001b[0;36m<cell line: 1>\u001b[0;34m()\u001b[0m\n\u001b[0;32m----> 1\u001b[0m tuple1[\u001b[38;5;241m0\u001b[39m] \u001b[38;5;241m=\u001b[39m \u001b[38;5;124m\"\u001b[39m\u001b[38;5;124msoon\u001b[39m\u001b[38;5;124m\"\u001b[39m\n",
      "\u001b[0;31mTypeError\u001b[0m: 'tuple' object does not support item assignment"
     ]
    }
   ],
   "source": [
    "tuple1[0] = \"soon\""
   ]
  },
  {
   "cell_type": "code",
   "execution_count": 174,
   "id": "f1c9dba0",
   "metadata": {},
   "outputs": [
    {
     "ename": "AttributeError",
     "evalue": "'tuple' object has no attribute 'append'",
     "output_type": "error",
     "traceback": [
      "\u001b[0;31m---------------------------------------------------------------------------\u001b[0m",
      "\u001b[0;31mAttributeError\u001b[0m                            Traceback (most recent call last)",
      "Input \u001b[0;32mIn [174]\u001b[0m, in \u001b[0;36m<cell line: 1>\u001b[0;34m()\u001b[0m\n\u001b[0;32m----> 1\u001b[0m \u001b[43mtuple1\u001b[49m\u001b[38;5;241;43m.\u001b[39;49m\u001b[43mappend\u001b[49m(\u001b[38;5;124m\"\u001b[39m\u001b[38;5;124msoon\u001b[39m\u001b[38;5;124m\"\u001b[39m)\n",
      "\u001b[0;31mAttributeError\u001b[0m: 'tuple' object has no attribute 'append'"
     ]
    }
   ],
   "source": [
    "tuple1.append(\"soon\")"
   ]
  },
  {
   "cell_type": "code",
   "execution_count": 175,
   "id": "436bec65",
   "metadata": {},
   "outputs": [
    {
     "data": {
      "text/plain": [
       "('Wasim', 'nabil', 'rehan')"
      ]
     },
     "execution_count": 175,
     "metadata": {},
     "output_type": "execute_result"
    }
   ],
   "source": [
    "tuple1"
   ]
  },
  {
   "cell_type": "code",
   "execution_count": 176,
   "id": "932bf2f7",
   "metadata": {},
   "outputs": [
    {
     "data": {
      "text/plain": [
       "1"
      ]
     },
     "execution_count": 176,
     "metadata": {},
     "output_type": "execute_result"
    }
   ],
   "source": [
    "tuple1.count(\"nabil\")"
   ]
  },
  {
   "cell_type": "code",
   "execution_count": 177,
   "id": "9ea3c6d1",
   "metadata": {},
   "outputs": [
    {
     "data": {
      "text/plain": [
       "1"
      ]
     },
     "execution_count": 177,
     "metadata": {},
     "output_type": "execute_result"
    }
   ],
   "source": [
    "tuple1.index(\"nabil\")"
   ]
  },
  {
   "cell_type": "code",
   "execution_count": 178,
   "id": "50695617",
   "metadata": {},
   "outputs": [
    {
     "data": {
      "text/plain": [
       "(1, 'kasim', [1, 2])"
      ]
     },
     "execution_count": 178,
     "metadata": {},
     "output_type": "execute_result"
    }
   ],
   "source": [
    "(1 , \"kasim\", [1,2])"
   ]
  },
  {
   "cell_type": "raw",
   "id": "6c0936ba",
   "metadata": {},
   "source": [
    "-> Dictionaries: ( Represents by curly brackets with key and value pair {\"key\" : value, ... } )\n",
    "Heterogeneous, Unordered, Changeble\n",
    "- Get the value i.e using key, \n",
    "- Change the value i.e using existing key, \n",
    "- Number of items i.e using len, \n",
    "- Adding items i.e using new key and value, \n",
    "- Removing items i.e using pop with key, \n",
    "- Remove the last item i.e popitem,\n",
    "- Empty the dict i.e using clear"
   ]
  },
  {
   "cell_type": "code",
   "execution_count": 179,
   "id": "730b9b7f",
   "metadata": {},
   "outputs": [],
   "source": [
    "covid_cases = {\"India\" : 444,\n",
    "              \"Pakistan\" : 555,\n",
    "              \"Singapore\" : \"No cases\",\n",
    "              \"Malaysia\" : 100}"
   ]
  },
  {
   "cell_type": "code",
   "execution_count": 180,
   "id": "db0da4e4",
   "metadata": {},
   "outputs": [
    {
     "ename": "KeyError",
     "evalue": "0",
     "output_type": "error",
     "traceback": [
      "\u001b[0;31m---------------------------------------------------------------------------\u001b[0m",
      "\u001b[0;31mKeyError\u001b[0m                                  Traceback (most recent call last)",
      "Input \u001b[0;32mIn [180]\u001b[0m, in \u001b[0;36m<cell line: 1>\u001b[0;34m()\u001b[0m\n\u001b[0;32m----> 1\u001b[0m \u001b[43mcovid_cases\u001b[49m\u001b[43m[\u001b[49m\u001b[38;5;241;43m0\u001b[39;49m\u001b[43m]\u001b[49m\n",
      "\u001b[0;31mKeyError\u001b[0m: 0"
     ]
    }
   ],
   "source": [
    "covid_cases[0]"
   ]
  },
  {
   "cell_type": "code",
   "execution_count": 181,
   "id": "501ffd99",
   "metadata": {},
   "outputs": [
    {
     "data": {
      "text/plain": [
       "444"
      ]
     },
     "execution_count": 181,
     "metadata": {},
     "output_type": "execute_result"
    }
   ],
   "source": [
    "# - Get the value i.e using key,\n",
    "covid_cases[\"India\"]   "
   ]
  },
  {
   "cell_type": "code",
   "execution_count": 182,
   "id": "545a1d1d",
   "metadata": {},
   "outputs": [],
   "source": [
    "# - Change the value i.e using existing key,\n",
    "covid_cases[\"India\"] = 99"
   ]
  },
  {
   "cell_type": "code",
   "execution_count": 183,
   "id": "d2bedfe1",
   "metadata": {},
   "outputs": [
    {
     "data": {
      "text/plain": [
       "99"
      ]
     },
     "execution_count": 183,
     "metadata": {},
     "output_type": "execute_result"
    }
   ],
   "source": [
    "covid_cases[\"India\"]"
   ]
  },
  {
   "cell_type": "code",
   "execution_count": 184,
   "id": "4700f991",
   "metadata": {},
   "outputs": [
    {
     "data": {
      "text/plain": [
       "4"
      ]
     },
     "execution_count": 184,
     "metadata": {},
     "output_type": "execute_result"
    }
   ],
   "source": [
    "# - Number of items i.e using len, \n",
    "len(covid_cases)"
   ]
  },
  {
   "cell_type": "code",
   "execution_count": 185,
   "id": "7e74c809",
   "metadata": {},
   "outputs": [],
   "source": [
    "# - Adding items i.e using new key and value,\n",
    "covid_cases[\"Bangladesh\"] = 100"
   ]
  },
  {
   "cell_type": "code",
   "execution_count": 186,
   "id": "fbaabf34",
   "metadata": {},
   "outputs": [
    {
     "data": {
      "text/plain": [
       "{'India': 99,\n",
       " 'Pakistan': 555,\n",
       " 'Singapore': 'No cases',\n",
       " 'Malaysia': 100,\n",
       " 'Bangladesh': 100}"
      ]
     },
     "execution_count": 186,
     "metadata": {},
     "output_type": "execute_result"
    }
   ],
   "source": [
    "covid_cases"
   ]
  },
  {
   "cell_type": "code",
   "execution_count": 187,
   "id": "fec27850",
   "metadata": {},
   "outputs": [
    {
     "data": {
      "text/plain": [
       "555"
      ]
     },
     "execution_count": 187,
     "metadata": {},
     "output_type": "execute_result"
    }
   ],
   "source": [
    "# - Removing items i.e using pop with key, \n",
    "covid_cases.pop(\"Pakistan\")"
   ]
  },
  {
   "cell_type": "code",
   "execution_count": 188,
   "id": "fb43c26e",
   "metadata": {},
   "outputs": [
    {
     "data": {
      "text/plain": [
       "{'India': 99, 'Singapore': 'No cases', 'Malaysia': 100, 'Bangladesh': 100}"
      ]
     },
     "execution_count": 188,
     "metadata": {},
     "output_type": "execute_result"
    }
   ],
   "source": [
    "covid_cases"
   ]
  },
  {
   "cell_type": "code",
   "execution_count": 189,
   "id": "8ee60af5",
   "metadata": {},
   "outputs": [
    {
     "data": {
      "text/plain": [
       "('Bangladesh', 100)"
      ]
     },
     "execution_count": 189,
     "metadata": {},
     "output_type": "execute_result"
    }
   ],
   "source": [
    "# - Remove the last item i.e popitem,\n",
    "covid_cases.popitem()"
   ]
  },
  {
   "cell_type": "code",
   "execution_count": 190,
   "id": "c168ee87",
   "metadata": {},
   "outputs": [
    {
     "data": {
      "text/plain": [
       "{'India': 99, 'Singapore': 'No cases', 'Malaysia': 100}"
      ]
     },
     "execution_count": 190,
     "metadata": {},
     "output_type": "execute_result"
    }
   ],
   "source": [
    "covid_cases"
   ]
  },
  {
   "cell_type": "code",
   "execution_count": 191,
   "id": "f79ac7df",
   "metadata": {},
   "outputs": [],
   "source": [
    "# - Empty the dict i.e using clear\n",
    "covid_cases.clear()"
   ]
  },
  {
   "cell_type": "code",
   "execution_count": 192,
   "id": "b4c44f20",
   "metadata": {},
   "outputs": [
    {
     "data": {
      "text/plain": [
       "{}"
      ]
     },
     "execution_count": 192,
     "metadata": {},
     "output_type": "execute_result"
    }
   ],
   "source": [
    "covid_cases"
   ]
  },
  {
   "cell_type": "code",
   "execution_count": 193,
   "id": "7bc43fce",
   "metadata": {},
   "outputs": [
    {
     "data": {
      "text/plain": [
       "dict"
      ]
     },
     "execution_count": 193,
     "metadata": {},
     "output_type": "execute_result"
    }
   ],
   "source": [
    "type(covid_cases)"
   ]
  },
  {
   "cell_type": "raw",
   "id": "234e8f4a",
   "metadata": {},
   "source": [
    "-> Boolean"
   ]
  },
  {
   "cell_type": "code",
   "execution_count": 194,
   "id": "394d0fa9",
   "metadata": {},
   "outputs": [
    {
     "data": {
      "text/plain": [
       "True"
      ]
     },
     "execution_count": 194,
     "metadata": {},
     "output_type": "execute_result"
    }
   ],
   "source": [
    "True"
   ]
  },
  {
   "cell_type": "code",
   "execution_count": 195,
   "id": "61eea6a8",
   "metadata": {},
   "outputs": [
    {
     "data": {
      "text/plain": [
       "False"
      ]
     },
     "execution_count": 195,
     "metadata": {},
     "output_type": "execute_result"
    }
   ],
   "source": [
    "False"
   ]
  },
  {
   "cell_type": "code",
   "execution_count": 196,
   "id": "4d37c032",
   "metadata": {},
   "outputs": [
    {
     "data": {
      "text/plain": [
       "bool"
      ]
     },
     "execution_count": 196,
     "metadata": {},
     "output_type": "execute_result"
    }
   ],
   "source": [
    "type(True)"
   ]
  },
  {
   "cell_type": "raw",
   "id": "9371e0f3",
   "metadata": {},
   "source": [
    "---> Type casting : int, float, str, list, tuple, dict"
   ]
  },
  {
   "cell_type": "code",
   "execution_count": 197,
   "id": "9e93e0d3",
   "metadata": {},
   "outputs": [],
   "source": [
    "a = 1"
   ]
  },
  {
   "cell_type": "code",
   "execution_count": 198,
   "id": "fa04ec49",
   "metadata": {},
   "outputs": [
    {
     "data": {
      "text/plain": [
       "int"
      ]
     },
     "execution_count": 198,
     "metadata": {},
     "output_type": "execute_result"
    }
   ],
   "source": [
    "type(a)"
   ]
  },
  {
   "cell_type": "code",
   "execution_count": 199,
   "id": "d2b3dc71",
   "metadata": {},
   "outputs": [],
   "source": [
    "a = float(a)"
   ]
  },
  {
   "cell_type": "code",
   "execution_count": 200,
   "id": "19137fe8",
   "metadata": {},
   "outputs": [
    {
     "data": {
      "text/plain": [
       "1.0"
      ]
     },
     "execution_count": 200,
     "metadata": {},
     "output_type": "execute_result"
    }
   ],
   "source": [
    "a"
   ]
  },
  {
   "cell_type": "code",
   "execution_count": 201,
   "id": "83e55105",
   "metadata": {},
   "outputs": [
    {
     "data": {
      "text/plain": [
       "float"
      ]
     },
     "execution_count": 201,
     "metadata": {},
     "output_type": "execute_result"
    }
   ],
   "source": [
    "type(a)"
   ]
  },
  {
   "cell_type": "code",
   "execution_count": 202,
   "id": "a4d10992",
   "metadata": {},
   "outputs": [
    {
     "data": {
      "text/plain": [
       "1.0"
      ]
     },
     "execution_count": 202,
     "metadata": {},
     "output_type": "execute_result"
    }
   ],
   "source": [
    "float(1)"
   ]
  },
  {
   "cell_type": "code",
   "execution_count": 203,
   "id": "f7cf1977",
   "metadata": {},
   "outputs": [
    {
     "data": {
      "text/plain": [
       "1"
      ]
     },
     "execution_count": 203,
     "metadata": {},
     "output_type": "execute_result"
    }
   ],
   "source": [
    "int(1.0)"
   ]
  },
  {
   "cell_type": "code",
   "execution_count": 204,
   "id": "87a2336d",
   "metadata": {},
   "outputs": [
    {
     "data": {
      "text/plain": [
       "2"
      ]
     },
     "execution_count": 204,
     "metadata": {},
     "output_type": "execute_result"
    }
   ],
   "source": [
    "int(2.8)"
   ]
  },
  {
   "cell_type": "code",
   "execution_count": 205,
   "id": "c266b5ef",
   "metadata": {},
   "outputs": [
    {
     "data": {
      "text/plain": [
       "3"
      ]
     },
     "execution_count": 205,
     "metadata": {},
     "output_type": "execute_result"
    }
   ],
   "source": [
    "round(2.8)"
   ]
  },
  {
   "cell_type": "code",
   "execution_count": 206,
   "id": "866560a0",
   "metadata": {},
   "outputs": [
    {
     "data": {
      "text/plain": [
       "2"
      ]
     },
     "execution_count": 206,
     "metadata": {},
     "output_type": "execute_result"
    }
   ],
   "source": [
    "round(2.3)"
   ]
  },
  {
   "cell_type": "code",
   "execution_count": 207,
   "id": "4090f007",
   "metadata": {},
   "outputs": [
    {
     "data": {
      "text/plain": [
       "int"
      ]
     },
     "execution_count": 207,
     "metadata": {},
     "output_type": "execute_result"
    }
   ],
   "source": [
    "type(round(2.6))"
   ]
  },
  {
   "cell_type": "code",
   "execution_count": 208,
   "id": "bf18fed0",
   "metadata": {},
   "outputs": [
    {
     "data": {
      "text/plain": [
       "'1'"
      ]
     },
     "execution_count": 208,
     "metadata": {},
     "output_type": "execute_result"
    }
   ],
   "source": [
    "str(1)"
   ]
  },
  {
   "cell_type": "code",
   "execution_count": 209,
   "id": "8f788586",
   "metadata": {},
   "outputs": [
    {
     "data": {
      "text/plain": [
       "'2'"
      ]
     },
     "execution_count": 209,
     "metadata": {},
     "output_type": "execute_result"
    }
   ],
   "source": [
    "str(2)"
   ]
  },
  {
   "cell_type": "code",
   "execution_count": 210,
   "id": "6f0ba941",
   "metadata": {},
   "outputs": [
    {
     "data": {
      "text/plain": [
       "2"
      ]
     },
     "execution_count": 210,
     "metadata": {},
     "output_type": "execute_result"
    }
   ],
   "source": [
    "int(\"2\")"
   ]
  },
  {
   "cell_type": "code",
   "execution_count": 213,
   "id": "0c4ab061",
   "metadata": {},
   "outputs": [
    {
     "ename": "ValueError",
     "evalue": "invalid literal for int() with base 10: 'Wasim'",
     "output_type": "error",
     "traceback": [
      "\u001b[0;31m---------------------------------------------------------------------------\u001b[0m",
      "\u001b[0;31mValueError\u001b[0m                                Traceback (most recent call last)",
      "Input \u001b[0;32mIn [213]\u001b[0m, in \u001b[0;36m<cell line: 1>\u001b[0;34m()\u001b[0m\n\u001b[0;32m----> 1\u001b[0m \u001b[38;5;28;43mint\u001b[39;49m\u001b[43m(\u001b[49m\u001b[38;5;124;43m\"\u001b[39;49m\u001b[38;5;124;43mWasim\u001b[39;49m\u001b[38;5;124;43m\"\u001b[39;49m\u001b[43m)\u001b[49m\n",
      "\u001b[0;31mValueError\u001b[0m: invalid literal for int() with base 10: 'Wasim'"
     ]
    }
   ],
   "source": [
    "int(\"Wasim\")"
   ]
  },
  {
   "cell_type": "code",
   "execution_count": 214,
   "id": "803bfcce",
   "metadata": {},
   "outputs": [],
   "source": [
    "a = [1,2,3]"
   ]
  },
  {
   "cell_type": "code",
   "execution_count": 215,
   "id": "bbed1c68",
   "metadata": {},
   "outputs": [
    {
     "data": {
      "text/plain": [
       "list"
      ]
     },
     "execution_count": 215,
     "metadata": {},
     "output_type": "execute_result"
    }
   ],
   "source": [
    "type(a)"
   ]
  },
  {
   "cell_type": "code",
   "execution_count": 216,
   "id": "97396fd1",
   "metadata": {},
   "outputs": [
    {
     "data": {
      "text/plain": [
       "(1, 2, 3)"
      ]
     },
     "execution_count": 216,
     "metadata": {},
     "output_type": "execute_result"
    }
   ],
   "source": [
    "tuple(a)"
   ]
  },
  {
   "cell_type": "code",
   "execution_count": 217,
   "id": "ae42cb22",
   "metadata": {},
   "outputs": [
    {
     "data": {
      "text/plain": [
       "[1, 2, 3]"
      ]
     },
     "execution_count": 217,
     "metadata": {},
     "output_type": "execute_result"
    }
   ],
   "source": [
    "list((1,2,3))"
   ]
  },
  {
   "cell_type": "code",
   "execution_count": 218,
   "id": "0375e9e0",
   "metadata": {},
   "outputs": [
    {
     "data": {
      "text/plain": [
       "(2, 3, 4)"
      ]
     },
     "execution_count": 218,
     "metadata": {},
     "output_type": "execute_result"
    }
   ],
   "source": [
    "tuple([2,3,4])"
   ]
  },
  {
   "cell_type": "code",
   "execution_count": 219,
   "id": "a4321863",
   "metadata": {},
   "outputs": [
    {
     "ename": "TypeError",
     "evalue": "cannot convert dictionary update sequence element #0 to a sequence",
     "output_type": "error",
     "traceback": [
      "\u001b[0;31m---------------------------------------------------------------------------\u001b[0m",
      "\u001b[0;31mTypeError\u001b[0m                                 Traceback (most recent call last)",
      "Input \u001b[0;32mIn [219]\u001b[0m, in \u001b[0;36m<cell line: 1>\u001b[0;34m()\u001b[0m\n\u001b[0;32m----> 1\u001b[0m \u001b[38;5;28;43mdict\u001b[39;49m\u001b[43m(\u001b[49m\u001b[43m(\u001b[49m\u001b[38;5;241;43m1\u001b[39;49m\u001b[43m,\u001b[49m\u001b[38;5;241;43m2\u001b[39;49m\u001b[43m,\u001b[49m\u001b[38;5;241;43m3\u001b[39;49m\u001b[43m)\u001b[49m\u001b[43m)\u001b[49m\n",
      "\u001b[0;31mTypeError\u001b[0m: cannot convert dictionary update sequence element #0 to a sequence"
     ]
    }
   ],
   "source": [
    "dict((1,2,3))"
   ]
  },
  {
   "cell_type": "code",
   "execution_count": 220,
   "id": "20b2df58",
   "metadata": {},
   "outputs": [
    {
     "ename": "TypeError",
     "evalue": "cannot convert dictionary update sequence element #0 to a sequence",
     "output_type": "error",
     "traceback": [
      "\u001b[0;31m---------------------------------------------------------------------------\u001b[0m",
      "\u001b[0;31mTypeError\u001b[0m                                 Traceback (most recent call last)",
      "Input \u001b[0;32mIn [220]\u001b[0m, in \u001b[0;36m<cell line: 1>\u001b[0;34m()\u001b[0m\n\u001b[0;32m----> 1\u001b[0m \u001b[38;5;28;43mdict\u001b[39;49m\u001b[43m(\u001b[49m\u001b[43m[\u001b[49m\u001b[38;5;241;43m1\u001b[39;49m\u001b[43m,\u001b[49m\u001b[38;5;241;43m2\u001b[39;49m\u001b[43m,\u001b[49m\u001b[38;5;241;43m3\u001b[39;49m\u001b[43m]\u001b[49m\u001b[43m)\u001b[49m\n",
      "\u001b[0;31mTypeError\u001b[0m: cannot convert dictionary update sequence element #0 to a sequence"
     ]
    }
   ],
   "source": [
    "dict([1,2,3])"
   ]
  },
  {
   "cell_type": "code",
   "execution_count": 221,
   "id": "3b9823bd",
   "metadata": {},
   "outputs": [
    {
     "data": {
      "text/plain": [
       "['Wasim']"
      ]
     },
     "execution_count": 221,
     "metadata": {},
     "output_type": "execute_result"
    }
   ],
   "source": [
    "list({\"Wasim\" : 123})"
   ]
  },
  {
   "cell_type": "code",
   "execution_count": 222,
   "id": "5f7e736e",
   "metadata": {},
   "outputs": [],
   "source": [
    "covid_cases = {\"India\" : 444,\n",
    "              \"Pakistan\" : 555,\n",
    "              \"Singapore\" : \"No cases\",\n",
    "              \"Malaysia\" : 100}"
   ]
  },
  {
   "cell_type": "code",
   "execution_count": 223,
   "id": "1c22d824",
   "metadata": {},
   "outputs": [],
   "source": [
    "covid_cases_keys_list = list(covid_cases)"
   ]
  },
  {
   "cell_type": "code",
   "execution_count": 224,
   "id": "137d7d5f",
   "metadata": {},
   "outputs": [
    {
     "data": {
      "text/plain": [
       "['India', 'Pakistan', 'Singapore', 'Malaysia']"
      ]
     },
     "execution_count": 224,
     "metadata": {},
     "output_type": "execute_result"
    }
   ],
   "source": [
    "covid_cases_keys_list"
   ]
  },
  {
   "cell_type": "code",
   "execution_count": 225,
   "id": "f3025595",
   "metadata": {},
   "outputs": [
    {
     "data": {
      "text/plain": [
       "'India'"
      ]
     },
     "execution_count": 225,
     "metadata": {},
     "output_type": "execute_result"
    }
   ],
   "source": [
    "covid_cases_keys_list[0]"
   ]
  },
  {
   "cell_type": "code",
   "execution_count": 226,
   "id": "27939993",
   "metadata": {},
   "outputs": [
    {
     "data": {
      "text/plain": [
       "444"
      ]
     },
     "execution_count": 226,
     "metadata": {},
     "output_type": "execute_result"
    }
   ],
   "source": [
    "covid_cases[covid_cases_keys_list[0]]"
   ]
  },
  {
   "cell_type": "code",
   "execution_count": 227,
   "id": "4d049213",
   "metadata": {},
   "outputs": [
    {
     "data": {
      "text/plain": [
       "('India', 'Pakistan', 'Singapore', 'Malaysia')"
      ]
     },
     "execution_count": 227,
     "metadata": {},
     "output_type": "execute_result"
    }
   ],
   "source": [
    "tuple(covid_cases)"
   ]
  },
  {
   "cell_type": "code",
   "execution_count": null,
   "id": "b3abb714",
   "metadata": {},
   "outputs": [],
   "source": []
  },
  {
   "cell_type": "code",
   "execution_count": null,
   "id": "ae49a9f1",
   "metadata": {},
   "outputs": [],
   "source": [
    "   "
   ]
  }
 ],
 "metadata": {
  "kernelspec": {
   "display_name": "Python 3 (ipykernel)",
   "language": "python",
   "name": "python3"
  },
  "language_info": {
   "codemirror_mode": {
    "name": "ipython",
    "version": 3
   },
   "file_extension": ".py",
   "mimetype": "text/x-python",
   "name": "python",
   "nbconvert_exporter": "python",
   "pygments_lexer": "ipython3",
   "version": "3.9.7"
  }
 },
 "nbformat": 4,
 "nbformat_minor": 5
}
