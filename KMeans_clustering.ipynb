{
 "cells": [
  {
   "cell_type": "code",
   "execution_count": null,
   "id": "5c1e3e11",
   "metadata": {},
   "outputs": [],
   "source": []
  },
  {
   "cell_type": "code",
   "execution_count": 14,
   "id": "67634ce9",
   "metadata": {},
   "outputs": [
    {
     "data": {
      "text/html": [
       "<div>\n",
       "<style scoped>\n",
       "    .dataframe tbody tr th:only-of-type {\n",
       "        vertical-align: middle;\n",
       "    }\n",
       "\n",
       "    .dataframe tbody tr th {\n",
       "        vertical-align: top;\n",
       "    }\n",
       "\n",
       "    .dataframe thead th {\n",
       "        text-align: right;\n",
       "    }\n",
       "</style>\n",
       "<table border=\"1\" class=\"dataframe\">\n",
       "  <thead>\n",
       "    <tr style=\"text-align: right;\">\n",
       "      <th></th>\n",
       "      <th>x</th>\n",
       "      <th>y</th>\n",
       "    </tr>\n",
       "  </thead>\n",
       "  <tbody>\n",
       "    <tr>\n",
       "      <th>0</th>\n",
       "      <td>12</td>\n",
       "      <td>36</td>\n",
       "    </tr>\n",
       "    <tr>\n",
       "      <th>1</th>\n",
       "      <td>24</td>\n",
       "      <td>39</td>\n",
       "    </tr>\n",
       "    <tr>\n",
       "      <th>2</th>\n",
       "      <td>28</td>\n",
       "      <td>30</td>\n",
       "    </tr>\n",
       "    <tr>\n",
       "      <th>3</th>\n",
       "      <td>33</td>\n",
       "      <td>52</td>\n",
       "    </tr>\n",
       "    <tr>\n",
       "      <th>4</th>\n",
       "      <td>18</td>\n",
       "      <td>54</td>\n",
       "    </tr>\n",
       "    <tr>\n",
       "      <th>5</th>\n",
       "      <td>29</td>\n",
       "      <td>46</td>\n",
       "    </tr>\n",
       "    <tr>\n",
       "      <th>6</th>\n",
       "      <td>52</td>\n",
       "      <td>55</td>\n",
       "    </tr>\n",
       "    <tr>\n",
       "      <th>7</th>\n",
       "      <td>45</td>\n",
       "      <td>59</td>\n",
       "    </tr>\n",
       "    <tr>\n",
       "      <th>8</th>\n",
       "      <td>24</td>\n",
       "      <td>63</td>\n",
       "    </tr>\n",
       "    <tr>\n",
       "      <th>9</th>\n",
       "      <td>55</td>\n",
       "      <td>70</td>\n",
       "    </tr>\n",
       "    <tr>\n",
       "      <th>10</th>\n",
       "      <td>51</td>\n",
       "      <td>66</td>\n",
       "    </tr>\n",
       "    <tr>\n",
       "      <th>11</th>\n",
       "      <td>61</td>\n",
       "      <td>63</td>\n",
       "    </tr>\n",
       "    <tr>\n",
       "      <th>12</th>\n",
       "      <td>53</td>\n",
       "      <td>58</td>\n",
       "    </tr>\n",
       "    <tr>\n",
       "      <th>13</th>\n",
       "      <td>69</td>\n",
       "      <td>23</td>\n",
       "    </tr>\n",
       "    <tr>\n",
       "      <th>14</th>\n",
       "      <td>72</td>\n",
       "      <td>14</td>\n",
       "    </tr>\n",
       "    <tr>\n",
       "      <th>15</th>\n",
       "      <td>64</td>\n",
       "      <td>8</td>\n",
       "    </tr>\n",
       "    <tr>\n",
       "      <th>16</th>\n",
       "      <td>49</td>\n",
       "      <td>19</td>\n",
       "    </tr>\n",
       "    <tr>\n",
       "      <th>17</th>\n",
       "      <td>58</td>\n",
       "      <td>7</td>\n",
       "    </tr>\n",
       "  </tbody>\n",
       "</table>\n",
       "</div>"
      ],
      "text/plain": [
       "     x   y\n",
       "0   12  36\n",
       "1   24  39\n",
       "2   28  30\n",
       "3   33  52\n",
       "4   18  54\n",
       "5   29  46\n",
       "6   52  55\n",
       "7   45  59\n",
       "8   24  63\n",
       "9   55  70\n",
       "10  51  66\n",
       "11  61  63\n",
       "12  53  58\n",
       "13  69  23\n",
       "14  72  14\n",
       "15  64   8\n",
       "16  49  19\n",
       "17  58   7"
      ]
     },
     "execution_count": 14,
     "metadata": {},
     "output_type": "execute_result"
    }
   ],
   "source": [
    "import pandas as pd\n",
    "\n",
    "df=pd.DataFrame({'x':[12,24,28,33,18,29,52,45,24,55,51,61,53,69,72,64,49,58],\n",
    "                  'y':[36,39,30,52,54,46,55,59,63,70,66,63,58,23,14,8,19,7]})\n",
    "\n",
    "df"
   ]
  },
  {
   "cell_type": "code",
   "execution_count": null,
   "id": "4ee31d4e",
   "metadata": {},
   "outputs": [],
   "source": []
  },
  {
   "cell_type": "code",
   "execution_count": 15,
   "id": "c0e610f7",
   "metadata": {},
   "outputs": [
    {
     "data": {
      "image/png": "[encoded data removed]",
      "text/plain": [
       "<Figure size 432x288 with 1 Axes>"
      ]
     },
     "metadata": {
      "needs_background": "light"
     },
     "output_type": "display_data"
    }
   ],
   "source": [
    "import matplotlib.pyplot as plt\n",
    "\n",
    "plt.scatter(df['x'] , df['y'])\n",
    "\n",
    "plt.show()"
   ]
  },
  {
   "cell_type": "code",
   "execution_count": null,
   "id": "18587d95",
   "metadata": {},
   "outputs": [],
   "source": []
  },
  {
   "cell_type": "code",
   "execution_count": 16,
   "id": "0eb14046",
   "metadata": {},
   "outputs": [
    {
     "name": "stdout",
     "output_type": "stream",
     "text": [
      "12 72\n",
      "7 70\n"
     ]
    }
   ],
   "source": [
    "print(df['x'].min() , df['x'].max())\n",
    "\n",
    "print(df['y'].min() , df['y'].max())"
   ]
  },
  {
   "cell_type": "code",
   "execution_count": 17,
   "id": "144a4403",
   "metadata": {},
   "outputs": [
    {
     "name": "stdout",
     "output_type": "stream",
     "text": [
      "[40, 52] [23, 24] [27, 58]\n"
     ]
    }
   ],
   "source": [
    "import numpy as np\n",
    "\n",
    "cent1 = [np.random.randint(20,65) , np.random.randint(15,65)]\n",
    "cent2 = [np.random.randint(20,65) , np.random.randint(15,65)]\n",
    "cent3 = [np.random.randint(20,65) , np.random.randint(15,65)]\n",
    "\n",
    "print(cent1,cent2,cent3)"
   ]
  },
  {
   "cell_type": "code",
   "execution_count": 18,
   "id": "9ef23228",
   "metadata": {},
   "outputs": [
    {
     "data": {
      "image/png": "[encoded data removed]",
      "text/plain": [
       "<Figure size 432x288 with 1 Axes>"
      ]
     },
     "metadata": {
      "needs_background": "light"
     },
     "output_type": "display_data"
    }
   ],
   "source": [
    "import matplotlib.pyplot as plt\n",
    "\n",
    "plt.scatter(df['x'] , df['y'])\n",
    "\n",
    "plt.scatter(cent1[0] , cent1[1] , marker='*' , c = 'r')\n",
    "\n",
    "plt.scatter(cent2[0] , cent2[1] , marker='*' , c = 'g')\n",
    "\n",
    "plt.scatter(cent3[0] , cent3[1] , marker='*' , c = 'b')\n",
    "\n",
    "plt.show()"
   ]
  },
  {
   "cell_type": "code",
   "execution_count": 19,
   "id": "10ca8474",
   "metadata": {},
   "outputs": [],
   "source": [
    "#distance of all the points from centeroid 1\n",
    "df['r'] = ((df['x'] - cent1[0])**2 + (df['y'] - cent1[1])**2)**0.5\n",
    "\n",
    "#distance of all the points from centeroid 2\n",
    "df['g'] = ((df['x'] - cent2[0])**2 + (df['y'] - cent2[1])**2)**0.5\n",
    "\n",
    "#distance of all the points from centeroid 3\n",
    "df['b'] = ((df['x'] - cent3[0])**2 + (df['y'] - cent3[1])**2)**0.5"
   ]
  },
  {
   "cell_type": "code",
   "execution_count": 20,
   "id": "9abae993",
   "metadata": {},
   "outputs": [
    {
     "data": {
      "text/html": [
       "<div>\n",
       "<style scoped>\n",
       "    .dataframe tbody tr th:only-of-type {\n",
       "        vertical-align: middle;\n",
       "    }\n",
       "\n",
       "    .dataframe tbody tr th {\n",
       "        vertical-align: top;\n",
       "    }\n",
       "\n",
       "    .dataframe thead th {\n",
       "        text-align: right;\n",
       "    }\n",
       "</style>\n",
       "<table border=\"1\" class=\"dataframe\">\n",
       "  <thead>\n",
       "    <tr style=\"text-align: right;\">\n",
       "      <th></th>\n",
       "      <th>x</th>\n",
       "      <th>y</th>\n",
       "      <th>r</th>\n",
       "      <th>g</th>\n",
       "      <th>b</th>\n",
       "    </tr>\n",
       "  </thead>\n",
       "  <tbody>\n",
       "    <tr>\n",
       "      <th>0</th>\n",
       "      <td>12</td>\n",
       "      <td>36</td>\n",
       "      <td>32.249031</td>\n",
       "      <td>16.278821</td>\n",
       "      <td>26.627054</td>\n",
       "    </tr>\n",
       "    <tr>\n",
       "      <th>1</th>\n",
       "      <td>24</td>\n",
       "      <td>39</td>\n",
       "      <td>20.615528</td>\n",
       "      <td>15.033296</td>\n",
       "      <td>19.235384</td>\n",
       "    </tr>\n",
       "    <tr>\n",
       "      <th>2</th>\n",
       "      <td>28</td>\n",
       "      <td>30</td>\n",
       "      <td>25.059928</td>\n",
       "      <td>7.810250</td>\n",
       "      <td>28.017851</td>\n",
       "    </tr>\n",
       "    <tr>\n",
       "      <th>3</th>\n",
       "      <td>33</td>\n",
       "      <td>52</td>\n",
       "      <td>7.000000</td>\n",
       "      <td>29.732137</td>\n",
       "      <td>8.485281</td>\n",
       "    </tr>\n",
       "    <tr>\n",
       "      <th>4</th>\n",
       "      <td>18</td>\n",
       "      <td>54</td>\n",
       "      <td>22.090722</td>\n",
       "      <td>30.413813</td>\n",
       "      <td>9.848858</td>\n",
       "    </tr>\n",
       "  </tbody>\n",
       "</table>\n",
       "</div>"
      ],
      "text/plain": [
       "    x   y          r          g          b\n",
       "0  12  36  32.249031  16.278821  26.627054\n",
       "1  24  39  20.615528  15.033296  19.235384\n",
       "2  28  30  25.059928   7.810250  28.017851\n",
       "3  33  52   7.000000  29.732137   8.485281\n",
       "4  18  54  22.090722  30.413813   9.848858"
      ]
     },
     "execution_count": 20,
     "metadata": {},
     "output_type": "execute_result"
    }
   ],
   "source": [
    "df.head()\n"
   ]
  },
  {
   "cell_type": "code",
   "execution_count": 21,
   "id": "f19faa14",
   "metadata": {},
   "outputs": [],
   "source": [
    "df['Minimum'] = df.loc[: , 'r':'b'].idxmin(axis=1)"
   ]
  },
  {
   "cell_type": "code",
   "execution_count": 22,
   "id": "f99d861c",
   "metadata": {},
   "outputs": [
    {
     "data": {
      "text/html": [
       "<div>\n",
       "<style scoped>\n",
       "    .dataframe tbody tr th:only-of-type {\n",
       "        vertical-align: middle;\n",
       "    }\n",
       "\n",
       "    .dataframe tbody tr th {\n",
       "        vertical-align: top;\n",
       "    }\n",
       "\n",
       "    .dataframe thead th {\n",
       "        text-align: right;\n",
       "    }\n",
       "</style>\n",
       "<table border=\"1\" class=\"dataframe\">\n",
       "  <thead>\n",
       "    <tr style=\"text-align: right;\">\n",
       "      <th></th>\n",
       "      <th>x</th>\n",
       "      <th>y</th>\n",
       "      <th>r</th>\n",
       "      <th>g</th>\n",
       "      <th>b</th>\n",
       "      <th>Minimum</th>\n",
       "    </tr>\n",
       "  </thead>\n",
       "  <tbody>\n",
       "    <tr>\n",
       "      <th>0</th>\n",
       "      <td>12</td>\n",
       "      <td>36</td>\n",
       "      <td>32.249031</td>\n",
       "      <td>16.278821</td>\n",
       "      <td>26.627054</td>\n",
       "      <td>g</td>\n",
       "    </tr>\n",
       "    <tr>\n",
       "      <th>1</th>\n",
       "      <td>24</td>\n",
       "      <td>39</td>\n",
       "      <td>20.615528</td>\n",
       "      <td>15.033296</td>\n",
       "      <td>19.235384</td>\n",
       "      <td>g</td>\n",
       "    </tr>\n",
       "    <tr>\n",
       "      <th>2</th>\n",
       "      <td>28</td>\n",
       "      <td>30</td>\n",
       "      <td>25.059928</td>\n",
       "      <td>7.810250</td>\n",
       "      <td>28.017851</td>\n",
       "      <td>g</td>\n",
       "    </tr>\n",
       "    <tr>\n",
       "      <th>3</th>\n",
       "      <td>33</td>\n",
       "      <td>52</td>\n",
       "      <td>7.000000</td>\n",
       "      <td>29.732137</td>\n",
       "      <td>8.485281</td>\n",
       "      <td>r</td>\n",
       "    </tr>\n",
       "    <tr>\n",
       "      <th>4</th>\n",
       "      <td>18</td>\n",
       "      <td>54</td>\n",
       "      <td>22.090722</td>\n",
       "      <td>30.413813</td>\n",
       "      <td>9.848858</td>\n",
       "      <td>b</td>\n",
       "    </tr>\n",
       "  </tbody>\n",
       "</table>\n",
       "</div>"
      ],
      "text/plain": [
       "    x   y          r          g          b Minimum\n",
       "0  12  36  32.249031  16.278821  26.627054       g\n",
       "1  24  39  20.615528  15.033296  19.235384       g\n",
       "2  28  30  25.059928   7.810250  28.017851       g\n",
       "3  33  52   7.000000  29.732137   8.485281       r\n",
       "4  18  54  22.090722  30.413813   9.848858       b"
      ]
     },
     "execution_count": 22,
     "metadata": {},
     "output_type": "execute_result"
    }
   ],
   "source": [
    "df.head()"
   ]
  },
  {
   "cell_type": "code",
   "execution_count": 23,
   "id": "f216b583",
   "metadata": {},
   "outputs": [
    {
     "data": {
      "image/png": "[encoded data removed]",
      "text/plain": [
       "<Figure size 432x288 with 1 Axes>"
      ]
     },
     "metadata": {
      "needs_background": "light"
     },
     "output_type": "display_data"
    }
   ],
   "source": [
    "import matplotlib.pyplot as plt\n",
    "\n",
    "plt.scatter(df['x'] , df['y'] , c=df['Minimum'])\n",
    "\n",
    "plt.scatter(cent1[0] , cent1[1] , marker='*' , c = 'r')\n",
    "\n",
    "plt.scatter(cent2[0] , cent2[1] , marker='*' , c = 'g')\n",
    "\n",
    "plt.scatter(cent3[0] , cent3[1] , marker='*' , c = 'b')\n",
    "\n",
    "plt.show()"
   ]
  },
  {
   "cell_type": "code",
   "execution_count": 24,
   "id": "daf9fafa",
   "metadata": {},
   "outputs": [],
   "source": [
    "cent1[0] = df[df['Minimum'] == 'r']['x'].mean()\n",
    "cent1[1] = df[df['Minimum'] == 'r']['y'].mean()\n",
    "\n",
    "cent2[0] = df[df['Minimum'] == 'g']['x'].mean()\n",
    "cent2[1] = df[df['Minimum'] == 'g']['y'].mean()\n",
    "\n",
    "cent3[0] = df[df['Minimum'] == 'b']['x'].mean()\n",
    "cent3[1] = df[df['Minimum'] == 'b']['y'].mean()"
   ]
  },
  {
   "cell_type": "code",
   "execution_count": 25,
   "id": "5a735c02",
   "metadata": {},
   "outputs": [
    {
     "data": {
      "image/png": "[encoded data removed]",
      "text/plain": [
       "<Figure size 432x288 with 1 Axes>"
      ]
     },
     "metadata": {
      "needs_background": "light"
     },
     "output_type": "display_data"
    }
   ],
   "source": [
    "import matplotlib.pyplot as plt\n",
    "\n",
    "plt.scatter(df['x'] , df['y'] , c=df['Minimum'])\n",
    "\n",
    "plt.scatter(cent1[0] , cent1[1] , marker='*' , c = 'r')\n",
    "\n",
    "plt.scatter(cent2[0] , cent2[1] , marker='*' , c = 'g')\n",
    "\n",
    "plt.scatter(cent3[0] , cent3[1] , marker='*' , c = 'b')\n",
    "\n",
    "plt.show()"
   ]
  },
  {
   "cell_type": "code",
   "execution_count": 26,
   "id": "fa7773b9",
   "metadata": {},
   "outputs": [],
   "source": [
    "#distance of all the points from centeroid 1\n",
    "df['r'] = ((df['x'] - cent1[0])**2 + (df['y'] - cent1[1])**2)**0.5\n",
    "\n",
    "#distance of all the points from centeroid 2\n",
    "df['g'] = ((df['x'] - cent2[0])**2 + (df['y'] - cent2[1])**2)**0.5\n",
    "\n",
    "#distance of all the points from centeroid 3\n",
    "df['b'] = ((df['x'] - cent3[0])**2 + (df['y'] - cent3[1])**2)**0.5\n",
    "\n",
    "#Access the index of minimum value out of 3 i.e R, G or B\n",
    "df['Minimum'] = df.loc[: , 'r':'b'].idxmin(axis=1)"
   ]
  },
  {
   "cell_type": "code",
   "execution_count": 27,
   "id": "5b210df2",
   "metadata": {},
   "outputs": [
    {
     "data": {
      "text/html": [
       "<div>\n",
       "<style scoped>\n",
       "    .dataframe tbody tr th:only-of-type {\n",
       "        vertical-align: middle;\n",
       "    }\n",
       "\n",
       "    .dataframe tbody tr th {\n",
       "        vertical-align: top;\n",
       "    }\n",
       "\n",
       "    .dataframe thead th {\n",
       "        text-align: right;\n",
       "    }\n",
       "</style>\n",
       "<table border=\"1\" class=\"dataframe\">\n",
       "  <thead>\n",
       "    <tr style=\"text-align: right;\">\n",
       "      <th></th>\n",
       "      <th>x</th>\n",
       "      <th>y</th>\n",
       "      <th>r</th>\n",
       "      <th>g</th>\n",
       "      <th>b</th>\n",
       "      <th>Minimum</th>\n",
       "    </tr>\n",
       "  </thead>\n",
       "  <tbody>\n",
       "    <tr>\n",
       "      <th>0</th>\n",
       "      <td>12</td>\n",
       "      <td>36</td>\n",
       "      <td>45.158842</td>\n",
       "      <td>30.045336</td>\n",
       "      <td>21.730675</td>\n",
       "      <td>b</td>\n",
       "    </tr>\n",
       "    <tr>\n",
       "      <th>1</th>\n",
       "      <td>24</td>\n",
       "      <td>39</td>\n",
       "      <td>32.868237</td>\n",
       "      <td>21.925378</td>\n",
       "      <td>15.336956</td>\n",
       "      <td>b</td>\n",
       "    </tr>\n",
       "    <tr>\n",
       "      <th>2</th>\n",
       "      <td>28</td>\n",
       "      <td>30</td>\n",
       "      <td>33.924571</td>\n",
       "      <td>13.091558</td>\n",
       "      <td>24.716167</td>\n",
       "      <td>g</td>\n",
       "    </tr>\n",
       "    <tr>\n",
       "      <th>3</th>\n",
       "      <td>33</td>\n",
       "      <td>52</td>\n",
       "      <td>21.573875</td>\n",
       "      <td>29.485401</td>\n",
       "      <td>9.620580</td>\n",
       "      <td>b</td>\n",
       "    </tr>\n",
       "    <tr>\n",
       "      <th>4</th>\n",
       "      <td>18</td>\n",
       "      <td>54</td>\n",
       "      <td>36.669529</td>\n",
       "      <td>37.399495</td>\n",
       "      <td>5.676462</td>\n",
       "      <td>b</td>\n",
       "    </tr>\n",
       "  </tbody>\n",
       "</table>\n",
       "</div>"
      ],
      "text/plain": [
       "    x   y          r          g          b Minimum\n",
       "0  12  36  45.158842  30.045336  21.730675       b\n",
       "1  24  39  32.868237  21.925378  15.336956       b\n",
       "2  28  30  33.924571  13.091558  24.716167       g\n",
       "3  33  52  21.573875  29.485401   9.620580       b\n",
       "4  18  54  36.669529  37.399495   5.676462       b"
      ]
     },
     "execution_count": 27,
     "metadata": {},
     "output_type": "execute_result"
    }
   ],
   "source": [
    "df.head()"
   ]
  },
  {
   "cell_type": "code",
   "execution_count": 28,
   "id": "9ccdf53b",
   "metadata": {},
   "outputs": [
    {
     "data": {
      "image/png": "[encoded data removed]",
      "text/plain": [
       "<Figure size 432x288 with 1 Axes>"
      ]
     },
     "metadata": {
      "needs_background": "light"
     },
     "output_type": "display_data"
    }
   ],
   "source": [
    "import matplotlib.pyplot as plt\n",
    "\n",
    "plt.scatter(df['x'] , df['y'] , c=df['Minimum'])\n",
    "\n",
    "plt.scatter(cent1[0] , cent1[1] , marker='*' , c = 'r')\n",
    "\n",
    "plt.scatter(cent2[0] , cent2[1] , marker='*' , c = 'g')\n",
    "\n",
    "plt.scatter(cent3[0] , cent3[1] , marker='*' , c = 'b')\n",
    "\n",
    "plt.show()"
   ]
  },
  {
   "cell_type": "code",
   "execution_count": 29,
   "id": "37aec814",
   "metadata": {},
   "outputs": [
    {
     "name": "stdout",
     "output_type": "stream",
     "text": [
      "[54.55555555555556, 51.111111111111114] [39.166666666666664, 23.166666666666668] [23.666666666666668, 54.333333333333336]\n"
     ]
    }
   ],
   "source": [
    "print(cent1 , cent2 , cent3)"
   ]
  },
  {
   "cell_type": "markdown",
   "id": "63eb53c6",
   "metadata": {},
   "source": [
    "#SkLearn Library for Clustering"
   ]
  },
  {
   "cell_type": "code",
   "execution_count": 31,
   "id": "97c125a4",
   "metadata": {},
   "outputs": [
    {
     "name": "stdout",
     "output_type": "stream",
     "text": [
      "[[52.83333333 61.83333333]\n",
      " [62.4        14.2       ]\n",
      " [24.         45.71428571]]\n"
     ]
    }
   ],
   "source": [
    "import pandas as pd\n",
    "\n",
    "df=pd.DataFrame({'x':[12,24,28,33,18,29,52,45,24,55,51,61,53,69,72,64,49,58],\n",
    "                  'y':[36,39,30,52,54,46,55,59,63,70,66,63,58,23,14,8,19,7]})\n",
    "\n",
    "from sklearn.cluster import KMeans\n",
    "kmodel = KMeans(3)\n",
    "\n",
    "kmodel.fit(df)\n",
    "\n",
    "print(kmodel.cluster_centers_)"
   ]
  },
  {
   "cell_type": "code",
   "execution_count": 32,
   "id": "f7f1d293",
   "metadata": {},
   "outputs": [
    {
     "data": {
      "text/plain": [
       "array([2, 2, 2, 2, 2, 2, 0, 0, 2, 0, 0, 0, 0, 1, 1, 1, 1, 1], dtype=int32)"
      ]
     },
     "execution_count": 32,
     "metadata": {},
     "output_type": "execute_result"
    }
   ],
   "source": [
    "labels = kmodel.predict(df)\n",
    "labels"
   ]
  },
  {
   "cell_type": "code",
   "execution_count": 33,
   "id": "96e54f51",
   "metadata": {},
   "outputs": [
    {
     "data": {
      "image/png": "[encoded data removed]",
      "text/plain": [
       "<Figure size 432x288 with 1 Axes>"
      ]
     },
     "metadata": {
      "needs_background": "light"
     },
     "output_type": "display_data"
    }
   ],
   "source": [
    "plt.scatter(df['x'] , df['y'] , c = labels)\n",
    "plt.show()"
   ]
  },
  {
   "cell_type": "code",
   "execution_count": null,
   "id": "85e1625c",
   "metadata": {},
   "outputs": [],
   "source": []
  },
  {
   "cell_type": "code",
   "execution_count": null,
   "id": "b16d5e4f",
   "metadata": {},
   "outputs": [],
   "source": []
  }
 ],
 "metadata": {
  "kernelspec": {
   "display_name": "Python 3 (ipykernel)",
   "language": "python",
   "name": "python3"
  },
  "language_info": {
   "codemirror_mode": {
    "name": "ipython",
    "version": 3
   },
   "file_extension": ".py",
   "mimetype": "text/x-python",
   "name": "python",
   "nbconvert_exporter": "python",
   "pygments_lexer": "ipython3",
   "version": "3.9.7"
  }
 },
 "nbformat": 4,
 "nbformat_minor": 5
}
